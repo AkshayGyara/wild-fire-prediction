{
 "cells": [
  {
   "cell_type": "code",
   "execution_count": 1,
   "metadata": {},
   "outputs": [],
   "source": [
    "import arcgis\n",
    "from arcgis.gis import GIS\n",
    "from IPython.display import display\n",
    "\n",
    "#install and set up of arcgis - https://developers.arcgis.com/python/guide/install-and-set-up/"
   ]
  },
  {
   "cell_type": "code",
   "execution_count": 2,
   "metadata": {},
   "outputs": [],
   "source": [
    "gis = GIS(\"https://www.arcgis.com\", \"257wildfire\", \"Test#123\")\n"
   ]
  },
  {
   "cell_type": "code",
   "execution_count": 3,
   "metadata": {},
   "outputs": [
    {
     "data": {
      "application/vnd.jupyter.widget-view+json": {
       "model_id": "e5bffe152f244244a58c6a2421772a78",
       "version_major": 2,
       "version_minor": 0
      },
      "text/plain": [
       "MapView(layout=Layout(height='400px', width='100%'), zoom=10.0)"
      ]
     },
     "metadata": {},
     "output_type": "display_data"
    },
    {
     "data": {
      "text/html": [
       "<div class=\"map-static-img-preview-87a866a0-8e66-4b33-ac57-4fee0b031825\"><img src=\"\"></img></div>"
      ],
      "text/plain": [
       "<IPython.core.display.HTML object>"
      ]
     },
     "metadata": {},
     "output_type": "display_data"
    }
   ],
   "source": [
    "map = gis.map(\"San Diego County\", zoomlevel = 10)\n",
    "map   # In shell, do jupyter nbextension enable --py --sys-prefix widgetsnbextension for the map to display\n"
   ]
  },
  {
   "cell_type": "code",
   "execution_count": 11,
   "metadata": {},
   "outputs": [
    {
     "data": {
      "text/html": [
       "<div>\n",
       "<style scoped>\n",
       "    .dataframe tbody tr th:only-of-type {\n",
       "        vertical-align: middle;\n",
       "    }\n",
       "\n",
       "    .dataframe tbody tr th {\n",
       "        vertical-align: top;\n",
       "    }\n",
       "\n",
       "    .dataframe thead th {\n",
       "        text-align: right;\n",
       "    }\n",
       "</style>\n",
       "<table border=\"1\" class=\"dataframe\">\n",
       "  <thead>\n",
       "    <tr style=\"text-align: right;\">\n",
       "      <th></th>\n",
       "      <th>YEAR</th>\n",
       "      <th>MONTH</th>\n",
       "      <th>DAY</th>\n",
       "      <th>TEMP_MAX</th>\n",
       "      <th>TEMP_MIN</th>\n",
       "      <th>DEW_MAX</th>\n",
       "      <th>DEW_MIN</th>\n",
       "      <th>SLP_MAX</th>\n",
       "      <th>SLP_MIN</th>\n",
       "      <th>STP_MAX</th>\n",
       "      <th>...</th>\n",
       "      <th>WDSP_MIN</th>\n",
       "      <th>MXSPD</th>\n",
       "      <th>GUST</th>\n",
       "      <th>MAX</th>\n",
       "      <th>MIN</th>\n",
       "      <th>PRCP</th>\n",
       "      <th>SNDP</th>\n",
       "      <th>FRSHTT</th>\n",
       "      <th>Class</th>\n",
       "      <th>Location</th>\n",
       "    </tr>\n",
       "  </thead>\n",
       "  <tbody>\n",
       "    <tr>\n",
       "      <th>0</th>\n",
       "      <td>2017</td>\n",
       "      <td>1</td>\n",
       "      <td>1</td>\n",
       "      <td>53.9</td>\n",
       "      <td>24</td>\n",
       "      <td>46.5</td>\n",
       "      <td>24</td>\n",
       "      <td>1013.6</td>\n",
       "      <td>22</td>\n",
       "      <td>1012.4</td>\n",
       "      <td>...</td>\n",
       "      <td>24</td>\n",
       "      <td>13.0</td>\n",
       "      <td>18.1</td>\n",
       "      <td>60.1</td>\n",
       "      <td>48.9</td>\n",
       "      <td>0.68G</td>\n",
       "      <td>999.9</td>\n",
       "      <td>10000</td>\n",
       "      <td>0</td>\n",
       "      <td>San Diego</td>\n",
       "    </tr>\n",
       "    <tr>\n",
       "      <th>1</th>\n",
       "      <td>2017</td>\n",
       "      <td>1</td>\n",
       "      <td>2</td>\n",
       "      <td>56.4</td>\n",
       "      <td>24</td>\n",
       "      <td>45.4</td>\n",
       "      <td>24</td>\n",
       "      <td>1018.1</td>\n",
       "      <td>24</td>\n",
       "      <td>1017.1</td>\n",
       "      <td>...</td>\n",
       "      <td>24</td>\n",
       "      <td>8.0</td>\n",
       "      <td>999.9</td>\n",
       "      <td>60.1</td>\n",
       "      <td>48.9</td>\n",
       "      <td>0.00G</td>\n",
       "      <td>999.9</td>\n",
       "      <td>0</td>\n",
       "      <td>0</td>\n",
       "      <td>San Diego</td>\n",
       "    </tr>\n",
       "    <tr>\n",
       "      <th>2</th>\n",
       "      <td>2017</td>\n",
       "      <td>1</td>\n",
       "      <td>3</td>\n",
       "      <td>56.4</td>\n",
       "      <td>24</td>\n",
       "      <td>46.3</td>\n",
       "      <td>24</td>\n",
       "      <td>1021.2</td>\n",
       "      <td>23</td>\n",
       "      <td>1020.3</td>\n",
       "      <td>...</td>\n",
       "      <td>24</td>\n",
       "      <td>6.0</td>\n",
       "      <td>999.9</td>\n",
       "      <td>62.1</td>\n",
       "      <td>52</td>\n",
       "      <td>0.00G</td>\n",
       "      <td>999.9</td>\n",
       "      <td>0</td>\n",
       "      <td>0</td>\n",
       "      <td>San Diego</td>\n",
       "    </tr>\n",
       "    <tr>\n",
       "      <th>3</th>\n",
       "      <td>2017</td>\n",
       "      <td>1</td>\n",
       "      <td>4</td>\n",
       "      <td>56.5</td>\n",
       "      <td>24</td>\n",
       "      <td>45.7</td>\n",
       "      <td>24</td>\n",
       "      <td>1021.0</td>\n",
       "      <td>24</td>\n",
       "      <td>1020.0</td>\n",
       "      <td>...</td>\n",
       "      <td>24</td>\n",
       "      <td>8.0</td>\n",
       "      <td>999.9</td>\n",
       "      <td>64.9</td>\n",
       "      <td>48.9</td>\n",
       "      <td>0.00G</td>\n",
       "      <td>999.9</td>\n",
       "      <td>0</td>\n",
       "      <td>0</td>\n",
       "      <td>San Diego</td>\n",
       "    </tr>\n",
       "    <tr>\n",
       "      <th>4</th>\n",
       "      <td>2017</td>\n",
       "      <td>1</td>\n",
       "      <td>5</td>\n",
       "      <td>58.3</td>\n",
       "      <td>24</td>\n",
       "      <td>49.8</td>\n",
       "      <td>24</td>\n",
       "      <td>1018.2</td>\n",
       "      <td>19</td>\n",
       "      <td>1017.0</td>\n",
       "      <td>...</td>\n",
       "      <td>24</td>\n",
       "      <td>9.9</td>\n",
       "      <td>999.9</td>\n",
       "      <td>64.9</td>\n",
       "      <td>48.9</td>\n",
       "      <td>0.00G</td>\n",
       "      <td>999.9</td>\n",
       "      <td>10000</td>\n",
       "      <td>0</td>\n",
       "      <td>San Diego</td>\n",
       "    </tr>\n",
       "  </tbody>\n",
       "</table>\n",
       "<p>5 rows × 24 columns</p>\n",
       "</div>"
      ],
      "text/plain": [
       "   YEAR  MONTH  DAY  TEMP_MAX  TEMP_MIN  DEW_MAX  DEW_MIN  SLP_MAX  SLP_MIN  \\\n",
       "0  2017      1    1      53.9        24     46.5       24   1013.6       22   \n",
       "1  2017      1    2      56.4        24     45.4       24   1018.1       24   \n",
       "2  2017      1    3      56.4        24     46.3       24   1021.2       23   \n",
       "3  2017      1    4      56.5        24     45.7       24   1021.0       24   \n",
       "4  2017      1    5      58.3        24     49.8       24   1018.2       19   \n",
       "\n",
       "   STP_MAX  ...  WDSP_MIN  MXSPD   GUST   MAX   MIN   PRCP   SNDP FRSHTT  \\\n",
       "0   1012.4  ...        24   13.0   18.1  60.1  48.9  0.68G  999.9  10000   \n",
       "1   1017.1  ...        24    8.0  999.9  60.1  48.9  0.00G  999.9      0   \n",
       "2   1020.3  ...        24    6.0  999.9  62.1    52  0.00G  999.9      0   \n",
       "3   1020.0  ...        24    8.0  999.9  64.9  48.9  0.00G  999.9      0   \n",
       "4   1017.0  ...        24    9.9  999.9  64.9  48.9  0.00G  999.9  10000   \n",
       "\n",
       "  Class   Location  \n",
       "0     0  San Diego  \n",
       "1     0  San Diego  \n",
       "2     0  San Diego  \n",
       "3     0  San Diego  \n",
       "4     0  San Diego  \n",
       "\n",
       "[5 rows x 24 columns]"
      ]
     },
     "execution_count": 11,
     "metadata": {},
     "output_type": "execute_result"
    }
   ],
   "source": [
    "import pandas as pd\n",
    "\n",
    "df = pd.read_csv('weather_master.csv')\n",
    "df[\"Location\"] = \"San Diego\"\n",
    "df.head()\n",
    "\n"
   ]
  },
  {
   "cell_type": "code",
   "execution_count": 15,
   "metadata": {},
   "outputs": [
    {
     "data": {
      "application/vnd.jupyter.widget-view+json": {
       "model_id": "e5bffe152f244244a58c6a2421772a78",
       "version_major": 2,
       "version_minor": 0
      },
      "text/plain": [
       "MapView(jupyter_target='notebook', layout=Layout(height='400px', width='100%'), ready=True, zoom=15.0)"
      ]
     },
     "metadata": {},
     "output_type": "display_data"
    },
    {
     "data": {
      "text/html": [
       "<div class=\"map-static-img-preview-87a866a0-8e66-4b33-ac57-4fee0b031825\"><img src=\"\"></img></div>"
      ],
      "text/plain": [
       "<IPython.core.display.HTML object>"
      ]
     },
     "metadata": {},
     "output_type": "display_data"
    }
   ],
   "source": [
    "temp = gis.content.import_data(df, {\"Address\": \"Location\"})\n",
    "\n",
    "map.add_layer(temp, { \"renderer\":\"ClassedSizeRenderer\", \"field_name\":\"Class\" })\n",
    "\n",
    "map"
   ]
  },
  {
   "cell_type": "code",
   "execution_count": 14,
   "metadata": {},
   "outputs": [
    {
     "name": "stdout",
     "output_type": "stream",
     "text": [
      "This GIS does not support spatial analysis.\n"
     ]
    },
    {
     "ename": "AttributeError",
     "evalue": "'NoneType' object has no attribute 'interpolate_points'",
     "output_type": "error",
     "traceback": [
      "\u001b[0;31m---------------------------------------------------------------------------\u001b[0m",
      "\u001b[0;31mAttributeError\u001b[0m                            Traceback (most recent call last)",
      "\u001b[0;32m<ipython-input-14-6f3f680bacdb>\u001b[0m in \u001b[0;36m<module>\u001b[0;34m\u001b[0m\n\u001b[1;32m      1\u001b[0m \u001b[0;31m#Spatial Analysis\u001b[0m\u001b[0;34m\u001b[0m\u001b[0;34m\u001b[0m\u001b[0;34m\u001b[0m\u001b[0m\n\u001b[1;32m      2\u001b[0m \u001b[0;32mfrom\u001b[0m \u001b[0marcgis\u001b[0m\u001b[0;34m.\u001b[0m\u001b[0mfeatures\u001b[0m\u001b[0;34m.\u001b[0m\u001b[0manalyze_patterns\u001b[0m \u001b[0;32mimport\u001b[0m \u001b[0minterpolate_points\u001b[0m\u001b[0;34m\u001b[0m\u001b[0;34m\u001b[0m\u001b[0m\n\u001b[0;32m----> 3\u001b[0;31m \u001b[0minterpolated_rf\u001b[0m \u001b[0;34m=\u001b[0m \u001b[0minterpolate_points\u001b[0m\u001b[0;34m(\u001b[0m\u001b[0mtemp\u001b[0m\u001b[0;34m,\u001b[0m \u001b[0mfield\u001b[0m\u001b[0;34m=\u001b[0m\u001b[0;34m'TEMP_MAX'\u001b[0m\u001b[0;34m)\u001b[0m\u001b[0;34m\u001b[0m\u001b[0;34m\u001b[0m\u001b[0m\n\u001b[0m",
      "\u001b[0;32m~/anaconda3/lib/python3.7/site-packages/arcgis/features/analyze_patterns.py\u001b[0m in \u001b[0;36minterpolate_points\u001b[0;34m(input_layer, field, interpolate_option, output_prediction_error, classification_type, num_classes, class_breaks, bounding_polygon_layer, predict_at_point_layer, output_name, context, gis)\u001b[0m\n\u001b[1;32m    403\u001b[0m \u001b[0;34m\u001b[0m\u001b[0m\n\u001b[1;32m    404\u001b[0m     \u001b[0mgis\u001b[0m \u001b[0;34m=\u001b[0m \u001b[0m_arcgis\u001b[0m\u001b[0;34m.\u001b[0m\u001b[0menv\u001b[0m\u001b[0;34m.\u001b[0m\u001b[0mactive_gis\u001b[0m \u001b[0;32mif\u001b[0m \u001b[0mgis\u001b[0m \u001b[0;32mis\u001b[0m \u001b[0;32mNone\u001b[0m \u001b[0;32melse\u001b[0m \u001b[0mgis\u001b[0m\u001b[0;34m\u001b[0m\u001b[0;34m\u001b[0m\u001b[0m\n\u001b[0;32m--> 405\u001b[0;31m     return gis._tools.featureanalysis.interpolate_points(\n\u001b[0m\u001b[1;32m    406\u001b[0m         \u001b[0minput_layer\u001b[0m\u001b[0;34m,\u001b[0m\u001b[0;34m\u001b[0m\u001b[0;34m\u001b[0m\u001b[0m\n\u001b[1;32m    407\u001b[0m         \u001b[0mfield\u001b[0m\u001b[0;34m,\u001b[0m\u001b[0;34m\u001b[0m\u001b[0;34m\u001b[0m\u001b[0m\n",
      "\u001b[0;31mAttributeError\u001b[0m: 'NoneType' object has no attribute 'interpolate_points'"
     ]
    }
   ],
   "source": [
    "#Spatial Analysis\n",
    "from arcgis.features.analyze_patterns import interpolate_points\n",
    "interpolated_rf = interpolate_points(temp, field='TEMP_MAX')"
   ]
  },
  {
   "cell_type": "code",
   "execution_count": null,
   "metadata": {},
   "outputs": [],
   "source": []
  }
 ],
 "metadata": {
  "kernelspec": {
   "display_name": "Python 3",
   "language": "python",
   "name": "python3"
  },
  "language_info": {
   "codemirror_mode": {
    "name": "ipython",
    "version": 3
   },
   "file_extension": ".py",
   "mimetype": "text/x-python",
   "name": "python",
   "nbconvert_exporter": "python",
   "pygments_lexer": "ipython3",
   "version": "3.7.3"
  }
 },
 "nbformat": 4,
 "nbformat_minor": 2
}
