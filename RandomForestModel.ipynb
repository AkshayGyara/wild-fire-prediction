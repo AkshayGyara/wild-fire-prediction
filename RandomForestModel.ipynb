{
 "cells": [
  {
   "cell_type": "code",
   "execution_count": 350,
   "metadata": {},
   "outputs": [],
   "source": [
    "import pandas as pd\n",
    "import matplotlib.pyplot as plt\n",
    "import seaborn as sb\n",
    "from sklearn.preprocessing import Imputer\n",
    "import numpy as np\n",
    "from imblearn import under_sampling \n",
    "from imblearn import over_sampling\n",
    "from imblearn.over_sampling import SMOTE\n",
    "from sklearn.model_selection import train_test_split"
   ]
  },
  {
   "cell_type": "code",
   "execution_count": 351,
   "metadata": {},
   "outputs": [
    {
     "name": "stdout",
     "output_type": "stream",
     "text": [
      "<class 'pandas.core.frame.DataFrame'>\n",
      "RangeIndex: 8034 entries, 0 to 8033\n",
      "Data columns (total 18 columns):\n",
      "STATION      8034 non-null int64\n",
      "DATE         8034 non-null object\n",
      "LATITUDE     8034 non-null float64\n",
      "LONGITUDE    8034 non-null float64\n",
      "ELEVATION    8034 non-null float64\n",
      "NAME         8034 non-null object\n",
      "TEMP         8034 non-null float64\n",
      "DEWP         8034 non-null float64\n",
      "SLP          8034 non-null float64\n",
      "STP          8034 non-null float64\n",
      "VISIB        8034 non-null float64\n",
      "WDSP         8034 non-null float64\n",
      "MXSPD        8034 non-null float64\n",
      "GUST         8034 non-null float64\n",
      "MAX          8034 non-null float64\n",
      "MIN          8034 non-null float64\n",
      "PRCP         8034 non-null float64\n",
      "Class        8034 non-null int64\n",
      "dtypes: float64(14), int64(2), object(2)\n",
      "memory usage: 1.1+ MB\n"
     ]
    }
   ],
   "source": [
    "inputdata = pd.read_csv('weatherdatafrom12-19.csv')\n",
    "inputdata.info()"
   ]
  },
  {
   "cell_type": "code",
   "execution_count": 352,
   "metadata": {},
   "outputs": [
    {
     "data": {
      "text/html": [
       "<div>\n",
       "<style scoped>\n",
       "    .dataframe tbody tr th:only-of-type {\n",
       "        vertical-align: middle;\n",
       "    }\n",
       "\n",
       "    .dataframe tbody tr th {\n",
       "        vertical-align: top;\n",
       "    }\n",
       "\n",
       "    .dataframe thead th {\n",
       "        text-align: right;\n",
       "    }\n",
       "</style>\n",
       "<table border=\"1\" class=\"dataframe\">\n",
       "  <thead>\n",
       "    <tr style=\"text-align: right;\">\n",
       "      <th></th>\n",
       "      <th>STATION</th>\n",
       "      <th>DATE</th>\n",
       "      <th>LATITUDE</th>\n",
       "      <th>LONGITUDE</th>\n",
       "      <th>ELEVATION</th>\n",
       "      <th>NAME</th>\n",
       "      <th>TEMP</th>\n",
       "      <th>DEWP</th>\n",
       "      <th>SLP</th>\n",
       "      <th>STP</th>\n",
       "      <th>VISIB</th>\n",
       "      <th>WDSP</th>\n",
       "      <th>MXSPD</th>\n",
       "      <th>GUST</th>\n",
       "      <th>MAX</th>\n",
       "      <th>MIN</th>\n",
       "      <th>PRCP</th>\n",
       "      <th>Class</th>\n",
       "    </tr>\n",
       "  </thead>\n",
       "  <tbody>\n",
       "    <tr>\n",
       "      <th>0</th>\n",
       "      <td>72290403178</td>\n",
       "      <td>1/1/12</td>\n",
       "      <td>32.57222</td>\n",
       "      <td>-116.97944</td>\n",
       "      <td>157.0</td>\n",
       "      <td>SAN DIEGO BROWN FIELD, CA US</td>\n",
       "      <td>58.1</td>\n",
       "      <td>44.2</td>\n",
       "      <td>1019.1</td>\n",
       "      <td>999.9</td>\n",
       "      <td>7.2</td>\n",
       "      <td>2.3</td>\n",
       "      <td>8.9</td>\n",
       "      <td>0.0</td>\n",
       "      <td>77.0</td>\n",
       "      <td>44.1</td>\n",
       "      <td>0.0</td>\n",
       "      <td>0</td>\n",
       "    </tr>\n",
       "    <tr>\n",
       "      <th>1</th>\n",
       "      <td>72290403178</td>\n",
       "      <td>1/2/12</td>\n",
       "      <td>32.57222</td>\n",
       "      <td>-116.97944</td>\n",
       "      <td>157.0</td>\n",
       "      <td>SAN DIEGO BROWN FIELD, CA US</td>\n",
       "      <td>58.3</td>\n",
       "      <td>43.4</td>\n",
       "      <td>1021.0</td>\n",
       "      <td>2.1</td>\n",
       "      <td>8.9</td>\n",
       "      <td>1.2</td>\n",
       "      <td>7.0</td>\n",
       "      <td>0.0</td>\n",
       "      <td>75.0</td>\n",
       "      <td>42.8</td>\n",
       "      <td>0.0</td>\n",
       "      <td>0</td>\n",
       "    </tr>\n",
       "    <tr>\n",
       "      <th>2</th>\n",
       "      <td>72290403178</td>\n",
       "      <td>1/3/12</td>\n",
       "      <td>32.57222</td>\n",
       "      <td>-116.97944</td>\n",
       "      <td>157.0</td>\n",
       "      <td>SAN DIEGO BROWN FIELD, CA US</td>\n",
       "      <td>58.4</td>\n",
       "      <td>44.3</td>\n",
       "      <td>1021.6</td>\n",
       "      <td>2.6</td>\n",
       "      <td>8.5</td>\n",
       "      <td>3.7</td>\n",
       "      <td>9.9</td>\n",
       "      <td>0.0</td>\n",
       "      <td>75.0</td>\n",
       "      <td>45.0</td>\n",
       "      <td>0.0</td>\n",
       "      <td>0</td>\n",
       "    </tr>\n",
       "    <tr>\n",
       "      <th>3</th>\n",
       "      <td>72290403178</td>\n",
       "      <td>1/4/12</td>\n",
       "      <td>32.57222</td>\n",
       "      <td>-116.97944</td>\n",
       "      <td>157.0</td>\n",
       "      <td>SAN DIEGO BROWN FIELD, CA US</td>\n",
       "      <td>64.2</td>\n",
       "      <td>38.6</td>\n",
       "      <td>1022.3</td>\n",
       "      <td>3.3</td>\n",
       "      <td>9.4</td>\n",
       "      <td>3.5</td>\n",
       "      <td>8.0</td>\n",
       "      <td>0.0</td>\n",
       "      <td>87.1</td>\n",
       "      <td>48.9</td>\n",
       "      <td>0.0</td>\n",
       "      <td>0</td>\n",
       "    </tr>\n",
       "    <tr>\n",
       "      <th>4</th>\n",
       "      <td>72290403178</td>\n",
       "      <td>1/5/12</td>\n",
       "      <td>32.57222</td>\n",
       "      <td>-116.97944</td>\n",
       "      <td>157.0</td>\n",
       "      <td>SAN DIEGO BROWN FIELD, CA US</td>\n",
       "      <td>68.0</td>\n",
       "      <td>27.5</td>\n",
       "      <td>1020.1</td>\n",
       "      <td>1.3</td>\n",
       "      <td>10.0</td>\n",
       "      <td>5.0</td>\n",
       "      <td>11.1</td>\n",
       "      <td>0.0</td>\n",
       "      <td>84.0</td>\n",
       "      <td>55.9</td>\n",
       "      <td>0.0</td>\n",
       "      <td>0</td>\n",
       "    </tr>\n",
       "  </tbody>\n",
       "</table>\n",
       "</div>"
      ],
      "text/plain": [
       "       STATION    DATE  LATITUDE  LONGITUDE  ELEVATION  \\\n",
       "0  72290403178  1/1/12  32.57222 -116.97944      157.0   \n",
       "1  72290403178  1/2/12  32.57222 -116.97944      157.0   \n",
       "2  72290403178  1/3/12  32.57222 -116.97944      157.0   \n",
       "3  72290403178  1/4/12  32.57222 -116.97944      157.0   \n",
       "4  72290403178  1/5/12  32.57222 -116.97944      157.0   \n",
       "\n",
       "                           NAME  TEMP  DEWP     SLP    STP  VISIB  WDSP  \\\n",
       "0  SAN DIEGO BROWN FIELD, CA US  58.1  44.2  1019.1  999.9    7.2   2.3   \n",
       "1  SAN DIEGO BROWN FIELD, CA US  58.3  43.4  1021.0    2.1    8.9   1.2   \n",
       "2  SAN DIEGO BROWN FIELD, CA US  58.4  44.3  1021.6    2.6    8.5   3.7   \n",
       "3  SAN DIEGO BROWN FIELD, CA US  64.2  38.6  1022.3    3.3    9.4   3.5   \n",
       "4  SAN DIEGO BROWN FIELD, CA US  68.0  27.5  1020.1    1.3   10.0   5.0   \n",
       "\n",
       "   MXSPD  GUST   MAX   MIN  PRCP  Class  \n",
       "0    8.9   0.0  77.0  44.1   0.0      0  \n",
       "1    7.0   0.0  75.0  42.8   0.0      0  \n",
       "2    9.9   0.0  75.0  45.0   0.0      0  \n",
       "3    8.0   0.0  87.1  48.9   0.0      0  \n",
       "4   11.1   0.0  84.0  55.9   0.0      0  "
      ]
     },
     "execution_count": 352,
     "metadata": {},
     "output_type": "execute_result"
    }
   ],
   "source": [
    "inputdata.head()"
   ]
  },
  {
   "cell_type": "code",
   "execution_count": 353,
   "metadata": {},
   "outputs": [
    {
     "data": {
      "text/html": [
       "<div>\n",
       "<style scoped>\n",
       "    .dataframe tbody tr th:only-of-type {\n",
       "        vertical-align: middle;\n",
       "    }\n",
       "\n",
       "    .dataframe tbody tr th {\n",
       "        vertical-align: top;\n",
       "    }\n",
       "\n",
       "    .dataframe thead th {\n",
       "        text-align: right;\n",
       "    }\n",
       "</style>\n",
       "<table border=\"1\" class=\"dataframe\">\n",
       "  <thead>\n",
       "    <tr style=\"text-align: right;\">\n",
       "      <th></th>\n",
       "      <th>STATION</th>\n",
       "      <th>LATITUDE</th>\n",
       "      <th>LONGITUDE</th>\n",
       "      <th>ELEVATION</th>\n",
       "      <th>TEMP</th>\n",
       "      <th>DEWP</th>\n",
       "      <th>SLP</th>\n",
       "      <th>STP</th>\n",
       "      <th>VISIB</th>\n",
       "      <th>WDSP</th>\n",
       "      <th>MXSPD</th>\n",
       "      <th>GUST</th>\n",
       "      <th>MAX</th>\n",
       "      <th>MIN</th>\n",
       "      <th>PRCP</th>\n",
       "      <th>Class</th>\n",
       "    </tr>\n",
       "  </thead>\n",
       "  <tbody>\n",
       "    <tr>\n",
       "      <th>count</th>\n",
       "      <td>8.034000e+03</td>\n",
       "      <td>8034.000000</td>\n",
       "      <td>8034.000000</td>\n",
       "      <td>8034.000000</td>\n",
       "      <td>8034.000000</td>\n",
       "      <td>8034.000000</td>\n",
       "      <td>8034.000000</td>\n",
       "      <td>8034.000000</td>\n",
       "      <td>8034.000000</td>\n",
       "      <td>8034.000000</td>\n",
       "      <td>8034.000000</td>\n",
       "      <td>8034.000000</td>\n",
       "      <td>8034.000000</td>\n",
       "      <td>8034.000000</td>\n",
       "      <td>8034.000000</td>\n",
       "      <td>8034.000000</td>\n",
       "    </tr>\n",
       "    <tr>\n",
       "      <th>mean</th>\n",
       "      <td>7.229024e+10</td>\n",
       "      <td>32.707267</td>\n",
       "      <td>-117.100705</td>\n",
       "      <td>96.210642</td>\n",
       "      <td>64.147399</td>\n",
       "      <td>52.206746</td>\n",
       "      <td>1034.346477</td>\n",
       "      <td>464.158676</td>\n",
       "      <td>9.221646</td>\n",
       "      <td>4.442930</td>\n",
       "      <td>11.175342</td>\n",
       "      <td>5.433993</td>\n",
       "      <td>74.876363</td>\n",
       "      <td>58.262509</td>\n",
       "      <td>0.025233</td>\n",
       "      <td>0.021036</td>\n",
       "    </tr>\n",
       "    <tr>\n",
       "      <th>std</th>\n",
       "      <td>1.608311e+05</td>\n",
       "      <td>0.101180</td>\n",
       "      <td>0.087540</td>\n",
       "      <td>65.940282</td>\n",
       "      <td>7.027083</td>\n",
       "      <td>111.494518</td>\n",
       "      <td>412.893324</td>\n",
       "      <td>491.564995</td>\n",
       "      <td>1.229152</td>\n",
       "      <td>1.622165</td>\n",
       "      <td>27.181244</td>\n",
       "      <td>8.988141</td>\n",
       "      <td>8.473383</td>\n",
       "      <td>157.118082</td>\n",
       "      <td>0.130976</td>\n",
       "      <td>0.143512</td>\n",
       "    </tr>\n",
       "    <tr>\n",
       "      <th>min</th>\n",
       "      <td>7.229002e+10</td>\n",
       "      <td>32.572220</td>\n",
       "      <td>-117.183100</td>\n",
       "      <td>4.600000</td>\n",
       "      <td>43.600000</td>\n",
       "      <td>3.900000</td>\n",
       "      <td>1000.100000</td>\n",
       "      <td>0.000000</td>\n",
       "      <td>2.200000</td>\n",
       "      <td>0.900000</td>\n",
       "      <td>4.100000</td>\n",
       "      <td>0.000000</td>\n",
       "      <td>53.100000</td>\n",
       "      <td>30.000000</td>\n",
       "      <td>0.000000</td>\n",
       "      <td>0.000000</td>\n",
       "    </tr>\n",
       "    <tr>\n",
       "      <th>25%</th>\n",
       "      <td>7.229002e+10</td>\n",
       "      <td>32.572220</td>\n",
       "      <td>-117.183100</td>\n",
       "      <td>4.600000</td>\n",
       "      <td>59.300000</td>\n",
       "      <td>45.700000</td>\n",
       "      <td>1012.800000</td>\n",
       "      <td>11.200000</td>\n",
       "      <td>8.900000</td>\n",
       "      <td>3.400000</td>\n",
       "      <td>8.900000</td>\n",
       "      <td>0.000000</td>\n",
       "      <td>69.100000</td>\n",
       "      <td>50.000000</td>\n",
       "      <td>0.000000</td>\n",
       "      <td>0.000000</td>\n",
       "    </tr>\n",
       "    <tr>\n",
       "      <th>50%</th>\n",
       "      <td>7.229030e+10</td>\n",
       "      <td>32.733600</td>\n",
       "      <td>-117.139440</td>\n",
       "      <td>127.100000</td>\n",
       "      <td>63.600000</td>\n",
       "      <td>52.800000</td>\n",
       "      <td>1015.000000</td>\n",
       "      <td>19.100000</td>\n",
       "      <td>9.800000</td>\n",
       "      <td>4.200000</td>\n",
       "      <td>9.900000</td>\n",
       "      <td>0.000000</td>\n",
       "      <td>75.000000</td>\n",
       "      <td>55.900000</td>\n",
       "      <td>0.000000</td>\n",
       "      <td>0.000000</td>\n",
       "    </tr>\n",
       "    <tr>\n",
       "      <th>75%</th>\n",
       "      <td>7.229040e+10</td>\n",
       "      <td>32.815830</td>\n",
       "      <td>-116.979440</td>\n",
       "      <td>157.000000</td>\n",
       "      <td>69.200000</td>\n",
       "      <td>58.500000</td>\n",
       "      <td>1017.600000</td>\n",
       "      <td>996.300000</td>\n",
       "      <td>10.000000</td>\n",
       "      <td>5.200000</td>\n",
       "      <td>11.100000</td>\n",
       "      <td>15.000000</td>\n",
       "      <td>80.100000</td>\n",
       "      <td>62.100000</td>\n",
       "      <td>0.000000</td>\n",
       "      <td>0.000000</td>\n",
       "    </tr>\n",
       "    <tr>\n",
       "      <th>max</th>\n",
       "      <td>7.229040e+10</td>\n",
       "      <td>32.815830</td>\n",
       "      <td>-116.979440</td>\n",
       "      <td>157.000000</td>\n",
       "      <td>90.000000</td>\n",
       "      <td>9999.900000</td>\n",
       "      <td>9999.900000</td>\n",
       "      <td>999.900000</td>\n",
       "      <td>10.000000</td>\n",
       "      <td>19.300000</td>\n",
       "      <td>999.900000</td>\n",
       "      <td>79.100000</td>\n",
       "      <td>107.100000</td>\n",
       "      <td>9999.900000</td>\n",
       "      <td>2.920000</td>\n",
       "      <td>1.000000</td>\n",
       "    </tr>\n",
       "  </tbody>\n",
       "</table>\n",
       "</div>"
      ],
      "text/plain": [
       "            STATION     LATITUDE    LONGITUDE    ELEVATION         TEMP  \\\n",
       "count  8.034000e+03  8034.000000  8034.000000  8034.000000  8034.000000   \n",
       "mean   7.229024e+10    32.707267  -117.100705    96.210642    64.147399   \n",
       "std    1.608311e+05     0.101180     0.087540    65.940282     7.027083   \n",
       "min    7.229002e+10    32.572220  -117.183100     4.600000    43.600000   \n",
       "25%    7.229002e+10    32.572220  -117.183100     4.600000    59.300000   \n",
       "50%    7.229030e+10    32.733600  -117.139440   127.100000    63.600000   \n",
       "75%    7.229040e+10    32.815830  -116.979440   157.000000    69.200000   \n",
       "max    7.229040e+10    32.815830  -116.979440   157.000000    90.000000   \n",
       "\n",
       "              DEWP          SLP          STP        VISIB         WDSP  \\\n",
       "count  8034.000000  8034.000000  8034.000000  8034.000000  8034.000000   \n",
       "mean     52.206746  1034.346477   464.158676     9.221646     4.442930   \n",
       "std     111.494518   412.893324   491.564995     1.229152     1.622165   \n",
       "min       3.900000  1000.100000     0.000000     2.200000     0.900000   \n",
       "25%      45.700000  1012.800000    11.200000     8.900000     3.400000   \n",
       "50%      52.800000  1015.000000    19.100000     9.800000     4.200000   \n",
       "75%      58.500000  1017.600000   996.300000    10.000000     5.200000   \n",
       "max    9999.900000  9999.900000   999.900000    10.000000    19.300000   \n",
       "\n",
       "             MXSPD         GUST          MAX          MIN         PRCP  \\\n",
       "count  8034.000000  8034.000000  8034.000000  8034.000000  8034.000000   \n",
       "mean     11.175342     5.433993    74.876363    58.262509     0.025233   \n",
       "std      27.181244     8.988141     8.473383   157.118082     0.130976   \n",
       "min       4.100000     0.000000    53.100000    30.000000     0.000000   \n",
       "25%       8.900000     0.000000    69.100000    50.000000     0.000000   \n",
       "50%       9.900000     0.000000    75.000000    55.900000     0.000000   \n",
       "75%      11.100000    15.000000    80.100000    62.100000     0.000000   \n",
       "max     999.900000    79.100000   107.100000  9999.900000     2.920000   \n",
       "\n",
       "             Class  \n",
       "count  8034.000000  \n",
       "mean      0.021036  \n",
       "std       0.143512  \n",
       "min       0.000000  \n",
       "25%       0.000000  \n",
       "50%       0.000000  \n",
       "75%       0.000000  \n",
       "max       1.000000  "
      ]
     },
     "execution_count": 353,
     "metadata": {},
     "output_type": "execute_result"
    }
   ],
   "source": [
    "inputdata.describe()"
   ]
  },
  {
   "cell_type": "code",
   "execution_count": 354,
   "metadata": {},
   "outputs": [
    {
     "data": {
      "text/plain": [
       "STATION      0\n",
       "DATE         0\n",
       "LATITUDE     0\n",
       "LONGITUDE    0\n",
       "ELEVATION    0\n",
       "NAME         0\n",
       "TEMP         0\n",
       "DEWP         0\n",
       "SLP          0\n",
       "STP          0\n",
       "VISIB        0\n",
       "WDSP         0\n",
       "MXSPD        0\n",
       "GUST         0\n",
       "MAX          0\n",
       "MIN          0\n",
       "PRCP         0\n",
       "Class        0\n",
       "dtype: int64"
      ]
     },
     "execution_count": 354,
     "metadata": {},
     "output_type": "execute_result"
    }
   ],
   "source": [
    "inputdata.isnull().sum()"
   ]
  },
  {
   "cell_type": "code",
   "execution_count": 355,
   "metadata": {},
   "outputs": [
    {
     "data": {
      "image/png": "[encoded data removed]",
      "text/plain": [
       "<Figure size 432x288 with 1 Axes>"
      ]
     },
     "metadata": {},
     "output_type": "display_data"
    }
   ],
   "source": [
    "sb.countplot(x='Class',data=inputdata,palette ='Set2')\n",
    "plt.show()"
   ]
  },
  {
   "cell_type": "code",
   "execution_count": 356,
   "metadata": {},
   "outputs": [],
   "source": [
    "# Extract the labels\n",
    "labels = np.array(inputdata.pop('Class'))"
   ]
  },
  {
   "cell_type": "code",
   "execution_count": 357,
   "metadata": {},
   "outputs": [],
   "source": [
    "inputdata = inputdata.select_dtypes('number')"
   ]
  },
  {
   "cell_type": "code",
   "execution_count": 358,
   "metadata": {},
   "outputs": [
    {
     "data": {
      "image/png": "[encoded data removed]",
      "text/plain": [
       "<Figure size 1440x1080 with 16 Axes>"
      ]
     },
     "metadata": {},
     "output_type": "display_data"
    }
   ],
   "source": [
    "inputdata.hist(bins = 50, figsize = (20,15))\n",
    "plt.show()"
   ]
  },
  {
   "cell_type": "code",
   "execution_count": 359,
   "metadata": {},
   "outputs": [
    {
     "name": "stdout",
     "output_type": "stream",
     "text": [
      "length of oversampled data is  11006\n",
      "Number of no fire in oversampled data 5503\n",
      "Number of  fire in oversampled data 5503\n",
      "Proportion of no fire data in oversampled data is  0.5\n",
      "Proportion of  fire data in oversampled data is  0.5\n"
     ]
    }
   ],
   "source": [
    "from imblearn.over_sampling import SMOTE\n",
    "os = SMOTE(random_state=0)\n",
    "X_train, X_test, y_train, y_test = train_test_split(inputdata, labels, test_size=0.3, random_state=0)\n",
    "columns = X_train.columns\n",
    "os_data_X,os_data_y=os.fit_sample(X_train, y_train)\n",
    "os_data_X = pd.DataFrame(data=os_data_X,columns=columns )\n",
    "os_data_y= pd.DataFrame(data=os_data_y,columns=['Class'])\n",
    "# we can Check the numbers of our data\n",
    "print(\"length of oversampled data is \",len(os_data_X))\n",
    "print(\"Number of no fire in oversampled data\",len(os_data_y[os_data_y['Class']==0]))\n",
    "print(\"Number of  fire in oversampled data\",len(os_data_y[os_data_y['Class']==1]))\n",
    "print(\"Proportion of no fire data in oversampled data is \",len(os_data_y[os_data_y['Class']==0])/len(os_data_X))\n",
    "print(\"Proportion of  fire data in oversampled data is \",len(os_data_y[os_data_y['Class']==1])/len(os_data_X))"
   ]
  },
  {
   "cell_type": "code",
   "execution_count": 360,
   "metadata": {},
   "outputs": [],
   "source": [
    "inputdata = os_data_X\n",
    "labels = os_data_y"
   ]
  },
  {
   "cell_type": "code",
   "execution_count": 361,
   "metadata": {},
   "outputs": [
    {
     "name": "stdout",
     "output_type": "stream",
     "text": [
      "7704 train + 3302 test\n"
     ]
    }
   ],
   "source": [
    "train, test, train_labels, test_labels = train_test_split(inputdata,\n",
    "                                         labels, \n",
    "                                         stratify = labels,\n",
    "                                         test_size = 0.3, \n",
    "                                         random_state = 42)\n",
    "print(len(train), \"train +\", len(test), \"test\")"
   ]
  },
  {
   "cell_type": "code",
   "execution_count": 362,
   "metadata": {},
   "outputs": [],
   "source": [
    "# Imputation of missing values\n",
    "train = train.fillna(train.mean())\n",
    "test = test.fillna(test.mean())"
   ]
  },
  {
   "cell_type": "code",
   "execution_count": 363,
   "metadata": {},
   "outputs": [],
   "source": [
    "# Features for feature importances\n",
    "features = list(train.columns)"
   ]
  },
  {
   "cell_type": "code",
   "execution_count": 364,
   "metadata": {},
   "outputs": [
    {
     "name": "stderr",
     "output_type": "stream",
     "text": [
      "/Users/shalu/anaconda3/lib/python3.7/site-packages/sklearn/preprocessing/data.py:176: UserWarning: Numerical issues were encountered when centering the data and might not be solved. Dataset may contain too large values. You may need to prescale your features.\n",
      "  warnings.warn(\"Numerical issues were encountered \"\n"
     ]
    }
   ],
   "source": [
    "from sklearn import preprocessing\n",
    "X_scaled = preprocessing.scale(train)\n",
    "X_scaled.mean(axis=0)\n",
    "X_scaled.std(axis=0)\n",
    "scaler = preprocessing.StandardScaler().fit(train)\n",
    "scaler.mean_\n",
    "scaler.scale_ \n",
    "train = scaler.transform(train)\n",
    "test = scaler.transform(test) "
   ]
  },
  {
   "cell_type": "code",
   "execution_count": 365,
   "metadata": {},
   "outputs": [
    {
     "data": {
      "text/plain": [
       "(11006, 15)"
      ]
     },
     "execution_count": 365,
     "metadata": {},
     "output_type": "execute_result"
    }
   ],
   "source": [
    "inputdata.shape"
   ]
  },
  {
   "cell_type": "code",
   "execution_count": 366,
   "metadata": {},
   "outputs": [
    {
     "data": {
      "text/plain": [
       "(7704, 15)"
      ]
     },
     "execution_count": 366,
     "metadata": {},
     "output_type": "execute_result"
    }
   ],
   "source": [
    "test.shape\n",
    "train.shape"
   ]
  },
  {
   "cell_type": "code",
   "execution_count": null,
   "metadata": {},
   "outputs": [],
   "source": []
  },
  {
   "cell_type": "code",
   "execution_count": 388,
   "metadata": {},
   "outputs": [],
   "source": [
    "# Create the model with 100 trees\n",
    "from sklearn.ensemble import RandomForestClassifier\n",
    "\n",
    "model = RandomForestClassifier(n_estimators=100, \n",
    "                               random_state=42, \n",
    "                               bootstrap = True,\n",
    "                               max_features = 'sqrt',\n",
    "                               n_jobs=-1, max_depth=4,verbose = 1)"
   ]
  },
  {
   "cell_type": "code",
   "execution_count": 389,
   "metadata": {},
   "outputs": [
    {
     "name": "stderr",
     "output_type": "stream",
     "text": [
      "/Users/shalu/anaconda3/lib/python3.7/site-packages/ipykernel_launcher.py:2: DataConversionWarning: A column-vector y was passed when a 1d array was expected. Please change the shape of y to (n_samples,), for example using ravel().\n",
      "  \n",
      "[Parallel(n_jobs=-1)]: Using backend ThreadingBackend with 8 concurrent workers.\n",
      "[Parallel(n_jobs=-1)]: Done  34 tasks      | elapsed:    0.1s\n",
      "[Parallel(n_jobs=-1)]: Done 100 out of 100 | elapsed:    0.2s finished\n"
     ]
    },
    {
     "data": {
      "text/plain": [
       "RandomForestClassifier(bootstrap=True, class_weight=None, criterion='gini',\n",
       "            max_depth=4, max_features='sqrt', max_leaf_nodes=None,\n",
       "            min_impurity_decrease=0.0, min_impurity_split=None,\n",
       "            min_samples_leaf=1, min_samples_split=2,\n",
       "            min_weight_fraction_leaf=0.0, n_estimators=100, n_jobs=-1,\n",
       "            oob_score=False, random_state=42, verbose=1, warm_start=False)"
      ]
     },
     "execution_count": 389,
     "metadata": {},
     "output_type": "execute_result"
    }
   ],
   "source": [
    "# Fit on training data\n",
    "model.fit(train, train_labels)"
   ]
  },
  {
   "cell_type": "code",
   "execution_count": 390,
   "metadata": {},
   "outputs": [
    {
     "name": "stdout",
     "output_type": "stream",
     "text": [
      "Average number of nodes 27\n",
      "Average maximum depth 4\n"
     ]
    }
   ],
   "source": [
    "n_nodes = []\n",
    "max_depths = []\n",
    "\n",
    "# Stats about the trees in random forest\n",
    "for ind_tree in model.estimators_:\n",
    "    n_nodes.append(ind_tree.tree_.node_count)\n",
    "    max_depths.append(ind_tree.tree_.max_depth)\n",
    "    \n",
    "print(f'Average number of nodes {int(np.mean(n_nodes))}')\n",
    "print(f'Average maximum depth {int(np.mean(max_depths))}')"
   ]
  },
  {
   "cell_type": "code",
   "execution_count": 391,
   "metadata": {},
   "outputs": [
    {
     "name": "stderr",
     "output_type": "stream",
     "text": [
      "[Parallel(n_jobs=8)]: Using backend ThreadingBackend with 8 concurrent workers.\n",
      "[Parallel(n_jobs=8)]: Done  34 tasks      | elapsed:    0.0s\n",
      "[Parallel(n_jobs=8)]: Done 100 out of 100 | elapsed:    0.0s finished\n",
      "[Parallel(n_jobs=8)]: Using backend ThreadingBackend with 8 concurrent workers.\n",
      "[Parallel(n_jobs=8)]: Done  34 tasks      | elapsed:    0.0s\n",
      "[Parallel(n_jobs=8)]: Done 100 out of 100 | elapsed:    0.0s finished\n"
     ]
    }
   ],
   "source": [
    "# Training predictions (to demonstrate overfitting)\n",
    "train_rf_predictions = model.predict(train)\n",
    "train_rf_probs = model.predict_proba(train)[:, 1]"
   ]
  },
  {
   "cell_type": "code",
   "execution_count": 392,
   "metadata": {},
   "outputs": [
    {
     "name": "stderr",
     "output_type": "stream",
     "text": [
      "[Parallel(n_jobs=8)]: Using backend ThreadingBackend with 8 concurrent workers.\n",
      "[Parallel(n_jobs=8)]: Done  34 tasks      | elapsed:    0.0s\n",
      "[Parallel(n_jobs=8)]: Done 100 out of 100 | elapsed:    0.0s finished\n",
      "[Parallel(n_jobs=8)]: Using backend ThreadingBackend with 8 concurrent workers.\n",
      "[Parallel(n_jobs=8)]: Done  34 tasks      | elapsed:    0.0s\n",
      "[Parallel(n_jobs=8)]: Done 100 out of 100 | elapsed:    0.0s finished\n"
     ]
    }
   ],
   "source": [
    "# Testing predictions (to determine performance)\n",
    "rf_predictions = model.predict(test)\n",
    "rf_probs = model.predict_proba(test)[:, 1]"
   ]
  },
  {
   "cell_type": "code",
   "execution_count": 393,
   "metadata": {},
   "outputs": [
    {
     "data": {
      "text/plain": [
       "array([[ 1.05083336, -1.4369612 ,  1.49763209, ...,  0.07143191,\n",
       "         0.61165422, -0.1392334 ],\n",
       "       [ 0.42938714,  1.0310579 , -0.37894128, ..., -1.60376128,\n",
       "        -1.92092805, -0.1392334 ],\n",
       "       [-1.30949075,  0.19798368, -0.89101124, ...,  0.56413579,\n",
       "         1.47421959, -0.1392334 ],\n",
       "       ...,\n",
       "       [ 1.05083336, -1.4369612 ,  1.49763209, ...,  0.36705424,\n",
       "        -0.82509918, -0.1392334 ],\n",
       "       [-1.30949075,  0.19798368, -0.89101124, ...,  0.16997269,\n",
       "        -1.06861671, -0.1392334 ],\n",
       "       [-1.30949075,  0.19798368, -0.89101124, ...,  0.12234238,\n",
       "         1.11937652, -0.1392334 ]])"
      ]
     },
     "execution_count": 393,
     "metadata": {},
     "output_type": "execute_result"
    }
   ],
   "source": [
    "test"
   ]
  },
  {
   "cell_type": "code",
   "execution_count": 394,
   "metadata": {},
   "outputs": [
    {
     "data": {
      "text/plain": [
       "array([1, 0, 1, ..., 0, 0, 1])"
      ]
     },
     "execution_count": 394,
     "metadata": {},
     "output_type": "execute_result"
    }
   ],
   "source": [
    "rf_predictions"
   ]
  },
  {
   "cell_type": "code",
   "execution_count": 374,
   "metadata": {},
   "outputs": [
    {
     "data": {
      "text/html": [
       "<div>\n",
       "<style scoped>\n",
       "    .dataframe tbody tr th:only-of-type {\n",
       "        vertical-align: middle;\n",
       "    }\n",
       "\n",
       "    .dataframe tbody tr th {\n",
       "        vertical-align: top;\n",
       "    }\n",
       "\n",
       "    .dataframe thead th {\n",
       "        text-align: right;\n",
       "    }\n",
       "</style>\n",
       "<table border=\"1\" class=\"dataframe\">\n",
       "  <thead>\n",
       "    <tr style=\"text-align: right;\">\n",
       "      <th></th>\n",
       "      <th>Class</th>\n",
       "    </tr>\n",
       "  </thead>\n",
       "  <tbody>\n",
       "    <tr>\n",
       "      <th>5091</th>\n",
       "      <td>0</td>\n",
       "    </tr>\n",
       "    <tr>\n",
       "      <th>2291</th>\n",
       "      <td>0</td>\n",
       "    </tr>\n",
       "    <tr>\n",
       "      <th>8560</th>\n",
       "      <td>1</td>\n",
       "    </tr>\n",
       "    <tr>\n",
       "      <th>2233</th>\n",
       "      <td>0</td>\n",
       "    </tr>\n",
       "    <tr>\n",
       "      <th>10023</th>\n",
       "      <td>1</td>\n",
       "    </tr>\n",
       "    <tr>\n",
       "      <th>8801</th>\n",
       "      <td>1</td>\n",
       "    </tr>\n",
       "    <tr>\n",
       "      <th>1244</th>\n",
       "      <td>0</td>\n",
       "    </tr>\n",
       "    <tr>\n",
       "      <th>10772</th>\n",
       "      <td>1</td>\n",
       "    </tr>\n",
       "    <tr>\n",
       "      <th>966</th>\n",
       "      <td>0</td>\n",
       "    </tr>\n",
       "    <tr>\n",
       "      <th>3068</th>\n",
       "      <td>0</td>\n",
       "    </tr>\n",
       "    <tr>\n",
       "      <th>3196</th>\n",
       "      <td>1</td>\n",
       "    </tr>\n",
       "    <tr>\n",
       "      <th>284</th>\n",
       "      <td>0</td>\n",
       "    </tr>\n",
       "    <tr>\n",
       "      <th>2768</th>\n",
       "      <td>0</td>\n",
       "    </tr>\n",
       "    <tr>\n",
       "      <th>6572</th>\n",
       "      <td>1</td>\n",
       "    </tr>\n",
       "    <tr>\n",
       "      <th>4405</th>\n",
       "      <td>0</td>\n",
       "    </tr>\n",
       "    <tr>\n",
       "      <th>2118</th>\n",
       "      <td>0</td>\n",
       "    </tr>\n",
       "    <tr>\n",
       "      <th>399</th>\n",
       "      <td>0</td>\n",
       "    </tr>\n",
       "    <tr>\n",
       "      <th>7361</th>\n",
       "      <td>1</td>\n",
       "    </tr>\n",
       "    <tr>\n",
       "      <th>8567</th>\n",
       "      <td>1</td>\n",
       "    </tr>\n",
       "    <tr>\n",
       "      <th>10303</th>\n",
       "      <td>1</td>\n",
       "    </tr>\n",
       "    <tr>\n",
       "      <th>9000</th>\n",
       "      <td>1</td>\n",
       "    </tr>\n",
       "    <tr>\n",
       "      <th>1179</th>\n",
       "      <td>0</td>\n",
       "    </tr>\n",
       "    <tr>\n",
       "      <th>34</th>\n",
       "      <td>0</td>\n",
       "    </tr>\n",
       "    <tr>\n",
       "      <th>965</th>\n",
       "      <td>0</td>\n",
       "    </tr>\n",
       "    <tr>\n",
       "      <th>3782</th>\n",
       "      <td>0</td>\n",
       "    </tr>\n",
       "    <tr>\n",
       "      <th>6249</th>\n",
       "      <td>1</td>\n",
       "    </tr>\n",
       "    <tr>\n",
       "      <th>10396</th>\n",
       "      <td>1</td>\n",
       "    </tr>\n",
       "    <tr>\n",
       "      <th>681</th>\n",
       "      <td>0</td>\n",
       "    </tr>\n",
       "    <tr>\n",
       "      <th>4685</th>\n",
       "      <td>0</td>\n",
       "    </tr>\n",
       "    <tr>\n",
       "      <th>4054</th>\n",
       "      <td>0</td>\n",
       "    </tr>\n",
       "    <tr>\n",
       "      <th>...</th>\n",
       "      <td>...</td>\n",
       "    </tr>\n",
       "    <tr>\n",
       "      <th>8126</th>\n",
       "      <td>1</td>\n",
       "    </tr>\n",
       "    <tr>\n",
       "      <th>3695</th>\n",
       "      <td>0</td>\n",
       "    </tr>\n",
       "    <tr>\n",
       "      <th>9298</th>\n",
       "      <td>1</td>\n",
       "    </tr>\n",
       "    <tr>\n",
       "      <th>2113</th>\n",
       "      <td>0</td>\n",
       "    </tr>\n",
       "    <tr>\n",
       "      <th>4551</th>\n",
       "      <td>0</td>\n",
       "    </tr>\n",
       "    <tr>\n",
       "      <th>3854</th>\n",
       "      <td>0</td>\n",
       "    </tr>\n",
       "    <tr>\n",
       "      <th>10540</th>\n",
       "      <td>1</td>\n",
       "    </tr>\n",
       "    <tr>\n",
       "      <th>5363</th>\n",
       "      <td>0</td>\n",
       "    </tr>\n",
       "    <tr>\n",
       "      <th>2791</th>\n",
       "      <td>0</td>\n",
       "    </tr>\n",
       "    <tr>\n",
       "      <th>5931</th>\n",
       "      <td>1</td>\n",
       "    </tr>\n",
       "    <tr>\n",
       "      <th>1019</th>\n",
       "      <td>1</td>\n",
       "    </tr>\n",
       "    <tr>\n",
       "      <th>836</th>\n",
       "      <td>1</td>\n",
       "    </tr>\n",
       "    <tr>\n",
       "      <th>2689</th>\n",
       "      <td>0</td>\n",
       "    </tr>\n",
       "    <tr>\n",
       "      <th>2092</th>\n",
       "      <td>0</td>\n",
       "    </tr>\n",
       "    <tr>\n",
       "      <th>4939</th>\n",
       "      <td>1</td>\n",
       "    </tr>\n",
       "    <tr>\n",
       "      <th>1485</th>\n",
       "      <td>0</td>\n",
       "    </tr>\n",
       "    <tr>\n",
       "      <th>4279</th>\n",
       "      <td>0</td>\n",
       "    </tr>\n",
       "    <tr>\n",
       "      <th>5893</th>\n",
       "      <td>1</td>\n",
       "    </tr>\n",
       "    <tr>\n",
       "      <th>10562</th>\n",
       "      <td>1</td>\n",
       "    </tr>\n",
       "    <tr>\n",
       "      <th>6687</th>\n",
       "      <td>1</td>\n",
       "    </tr>\n",
       "    <tr>\n",
       "      <th>1358</th>\n",
       "      <td>0</td>\n",
       "    </tr>\n",
       "    <tr>\n",
       "      <th>4748</th>\n",
       "      <td>0</td>\n",
       "    </tr>\n",
       "    <tr>\n",
       "      <th>8521</th>\n",
       "      <td>1</td>\n",
       "    </tr>\n",
       "    <tr>\n",
       "      <th>6867</th>\n",
       "      <td>1</td>\n",
       "    </tr>\n",
       "    <tr>\n",
       "      <th>248</th>\n",
       "      <td>0</td>\n",
       "    </tr>\n",
       "    <tr>\n",
       "      <th>5053</th>\n",
       "      <td>0</td>\n",
       "    </tr>\n",
       "    <tr>\n",
       "      <th>2880</th>\n",
       "      <td>0</td>\n",
       "    </tr>\n",
       "    <tr>\n",
       "      <th>3943</th>\n",
       "      <td>0</td>\n",
       "    </tr>\n",
       "    <tr>\n",
       "      <th>4550</th>\n",
       "      <td>0</td>\n",
       "    </tr>\n",
       "    <tr>\n",
       "      <th>5697</th>\n",
       "      <td>1</td>\n",
       "    </tr>\n",
       "  </tbody>\n",
       "</table>\n",
       "<p>3302 rows × 1 columns</p>\n",
       "</div>"
      ],
      "text/plain": [
       "       Class\n",
       "5091       0\n",
       "2291       0\n",
       "8560       1\n",
       "2233       0\n",
       "10023      1\n",
       "8801       1\n",
       "1244       0\n",
       "10772      1\n",
       "966        0\n",
       "3068       0\n",
       "3196       1\n",
       "284        0\n",
       "2768       0\n",
       "6572       1\n",
       "4405       0\n",
       "2118       0\n",
       "399        0\n",
       "7361       1\n",
       "8567       1\n",
       "10303      1\n",
       "9000       1\n",
       "1179       0\n",
       "34         0\n",
       "965        0\n",
       "3782       0\n",
       "6249       1\n",
       "10396      1\n",
       "681        0\n",
       "4685       0\n",
       "4054       0\n",
       "...      ...\n",
       "8126       1\n",
       "3695       0\n",
       "9298       1\n",
       "2113       0\n",
       "4551       0\n",
       "3854       0\n",
       "10540      1\n",
       "5363       0\n",
       "2791       0\n",
       "5931       1\n",
       "1019       1\n",
       "836        1\n",
       "2689       0\n",
       "2092       0\n",
       "4939       1\n",
       "1485       0\n",
       "4279       0\n",
       "5893       1\n",
       "10562      1\n",
       "6687       1\n",
       "1358       0\n",
       "4748       0\n",
       "8521       1\n",
       "6867       1\n",
       "248        0\n",
       "5053       0\n",
       "2880       0\n",
       "3943       0\n",
       "4550       0\n",
       "5697       1\n",
       "\n",
       "[3302 rows x 1 columns]"
      ]
     },
     "execution_count": 374,
     "metadata": {},
     "output_type": "execute_result"
    }
   ],
   "source": [
    "test_labels"
   ]
  },
  {
   "cell_type": "code",
   "execution_count": 375,
   "metadata": {},
   "outputs": [],
   "source": [
    "from sklearn.metrics import precision_score, recall_score, roc_auc_score, roc_curve\n",
    "\n",
    "# Plot formatting\n",
    "plt.style.use('fivethirtyeight')\n",
    "plt.rcParams['font.size'] = 18"
   ]
  },
  {
   "cell_type": "code",
   "execution_count": 376,
   "metadata": {},
   "outputs": [],
   "source": [
    "def evaluate_model(predictions, probs, train_predictions, train_probs):\n",
    "    \"\"\"Compare machine learning model to baseline performance.\n",
    "    Computes statistics and shows ROC curve.\"\"\"\n",
    "    \n",
    "    baseline = {}\n",
    "    \n",
    "    baseline['recall'] = recall_score(test_labels, \n",
    "                                     [1 for _ in range(len(test_labels))])\n",
    "    baseline['precision'] = precision_score(test_labels, \n",
    "                                      [1 for _ in range(len(test_labels))])\n",
    "    baseline['roc'] = 0.5\n",
    "    \n",
    "    results = {}\n",
    "    \n",
    "    results['recall'] = recall_score(test_labels, predictions)\n",
    "    results['precision'] = precision_score(test_labels, predictions)\n",
    "    results['roc'] = roc_auc_score(test_labels, probs)\n",
    "    \n",
    "    train_results = {}\n",
    "    train_results['recall'] = recall_score(train_labels, train_predictions)\n",
    "    train_results['precision'] = precision_score(train_labels, train_predictions)\n",
    "    train_results['roc'] = roc_auc_score(train_labels, train_probs)\n",
    "    \n",
    "    for metric in ['recall', 'precision', 'roc']:\n",
    "        print(f'{metric.capitalize()} Baseline: {round(baseline[metric], 2)} Test: {round(results[metric], 2)} Train: {round(train_results[metric], 2)}')\n",
    "    \n",
    "    # Calculate false positive rates and true positive rates\n",
    "    base_fpr, base_tpr, _ = roc_curve(test_labels, [1 for _ in range(len(test_labels))])\n",
    "    model_fpr, model_tpr, _ = roc_curve(test_labels, probs)\n",
    "\n",
    "    plt.figure(figsize = (8, 6))\n",
    "    plt.rcParams['font.size'] = 16\n",
    "    \n",
    "    # Plot both curves\n",
    "    plt.plot(base_fpr, base_tpr, 'b', label = 'baseline')\n",
    "    plt.plot(model_fpr, model_tpr, 'r', label = 'model')\n",
    "    plt.legend();\n",
    "    plt.xlabel('False Positive Rate'); \n",
    "    plt.ylabel('True Positive Rate'); plt.title('ROC Curves');\n",
    "    plt.show();"
   ]
  },
  {
   "cell_type": "code",
   "execution_count": 377,
   "metadata": {},
   "outputs": [
    {
     "name": "stdout",
     "output_type": "stream",
     "text": [
      "              precision    recall  f1-score   support\n",
      "\n",
      "           0       0.99      0.98      0.99      1651\n",
      "           1       0.98      0.99      0.99      1651\n",
      "\n",
      "   micro avg       0.99      0.99      0.99      3302\n",
      "   macro avg       0.99      0.99      0.99      3302\n",
      "weighted avg       0.99      0.99      0.99      3302\n",
      "\n"
     ]
    }
   ],
   "source": [
    "from sklearn.metrics import classification_report\n",
    "print(classification_report(test_labels, rf_predictions))"
   ]
  },
  {
   "cell_type": "code",
   "execution_count": 378,
   "metadata": {},
   "outputs": [
    {
     "name": "stdout",
     "output_type": "stream",
     "text": [
      "Recall Baseline: 1.0 Test: 0.99 Train: 1.0\n",
      "Precision Baseline: 0.5 Test: 0.98 Train: 1.0\n",
      "Roc Baseline: 0.5 Test: 1.0 Train: 1.0\n"
     ]
    },
    {
     "data": {
      "image/png": "[encoded data removed]",
      "text/plain": [
       "<Figure size 576x432 with 1 Axes>"
      ]
     },
     "metadata": {},
     "output_type": "display_data"
    },
    {
     "data": {
      "text/plain": [
       "<Figure size 432x288 with 0 Axes>"
      ]
     },
     "metadata": {},
     "output_type": "display_data"
    }
   ],
   "source": [
    "evaluate_model(rf_predictions, rf_probs, train_rf_predictions, train_rf_probs)\n",
    "plt.savefig('roc_auc_curve.png')"
   ]
  },
  {
   "cell_type": "code",
   "execution_count": 379,
   "metadata": {},
   "outputs": [],
   "source": [
    "from sklearn.metrics import confusion_matrix\n",
    "import itertools"
   ]
  },
  {
   "cell_type": "code",
   "execution_count": 380,
   "metadata": {},
   "outputs": [],
   "source": [
    "def plot_confusion_matrix(cm, classes,\n",
    "                          normalize=False,\n",
    "                          title='Confusion matrix',\n",
    "                          cmap=plt.cm.Oranges):\n",
    "    \"\"\"\n",
    "    This function prints and plots the confusion matrix.\n",
    "    Normalization can be applied by setting `normalize=True`.\n",
    "    Source: http://scikit-learn.org/stable/auto_examples/model_selection/plot_confusion_matrix.html\n",
    "    \"\"\"\n",
    "    if normalize:\n",
    "        cm = cm.astype('float') / cm.sum(axis=1)[:, np.newaxis]\n",
    "        print(\"Normalized confusion matrix\")\n",
    "    else:\n",
    "        print('Confusion matrix, without normalization')\n",
    "\n",
    "    print(cm)\n",
    "\n",
    "    # Plot the confusion matrix\n",
    "    plt.figure(figsize = (10, 10))\n",
    "    plt.imshow(cm, interpolation='nearest', cmap=cmap)\n",
    "    plt.title(title, size = 24)\n",
    "    plt.colorbar(aspect=4)\n",
    "    tick_marks = np.arange(len(classes))\n",
    "    plt.xticks(tick_marks, classes, rotation=45, size = 14)\n",
    "    plt.yticks(tick_marks, classes, size = 14)\n",
    "\n",
    "    fmt = '.2f' if normalize else 'd'\n",
    "    thresh = cm.max() / 2.\n",
    "    \n",
    "    # Labeling the plot\n",
    "    for i, j in itertools.product(range(cm.shape[0]), range(cm.shape[1])):\n",
    "        plt.text(j, i, format(cm[i, j], fmt), fontsize = 20,\n",
    "                 horizontalalignment=\"center\",\n",
    "                 color=\"white\" if cm[i, j] > thresh else \"black\")\n",
    "        \n",
    "    plt.grid(None)\n",
    "    plt.tight_layout()\n",
    "    plt.ylabel('True label', size = 18)\n",
    "    plt.xlabel('Predicted label', size = 18)"
   ]
  },
  {
   "cell_type": "code",
   "execution_count": 381,
   "metadata": {},
   "outputs": [
    {
     "name": "stdout",
     "output_type": "stream",
     "text": [
      "Confusion matrix, without normalization\n",
      "[[1614   37]\n",
      " [  10 1641]]\n"
     ]
    },
    {
     "data": {
      "image/png": "[encoded data removed]",
      "text/plain": [
       "<Figure size 720x720 with 2 Axes>"
      ]
     },
     "metadata": {},
     "output_type": "display_data"
    }
   ],
   "source": [
    "# Confusion matrix\n",
    "cm = confusion_matrix(test_labels, rf_predictions)\n",
    "plot_confusion_matrix(cm, classes = ['No-Fire', 'Fire'],\n",
    "                      title = 'Fire Confusion Matrix')\n",
    "\n",
    "plt.savefig('cm.png')"
   ]
  },
  {
   "cell_type": "code",
   "execution_count": 382,
   "metadata": {},
   "outputs": [],
   "source": [
    "from sklearn.metrics import roc_auc_score\n",
    "\n",
    "# Calculate roc auc\n",
    "roc_value = roc_auc_score(test_labels, rf_probs)"
   ]
  },
  {
   "cell_type": "code",
   "execution_count": 383,
   "metadata": {},
   "outputs": [
    {
     "data": {
      "text/plain": [
       "0.9987987017394153"
      ]
     },
     "execution_count": 383,
     "metadata": {},
     "output_type": "execute_result"
    }
   ],
   "source": [
    "roc_value"
   ]
  },
  {
   "cell_type": "code",
   "execution_count": 384,
   "metadata": {},
   "outputs": [
    {
     "data": {
      "text/plain": [
       "\"\\n#Feature Importance\\n# Extract feature importances\\nfi = pd.DataFrame({'feature': list(train.columns),\\n                   'importance': model.feature_importances_}).                    sort_values('importance', ascending = False)\\n\\n# Display\\nfi.head()\\n\""
      ]
     },
     "execution_count": 384,
     "metadata": {},
     "output_type": "execute_result"
    }
   ],
   "source": [
    "'''\n",
    "#Feature Importance\n",
    "# Extract feature importances\n",
    "fi = pd.DataFrame({'feature': list(train.columns),\n",
    "                   'importance': model.feature_importances_}).\\\n",
    "                    sort_values('importance', ascending = False)\n",
    "\n",
    "# Display\n",
    "fi.head()\n",
    "'''"
   ]
  },
  {
   "cell_type": "code",
   "execution_count": 385,
   "metadata": {},
   "outputs": [],
   "source": [
    "#Saving the model\n",
    "\n",
    "import pickle\n",
    "\n",
    "# Save the trained model as a pickle string. \n",
    "saved_model = pickle.dumps(model)"
   ]
  },
  {
   "cell_type": "code",
   "execution_count": 386,
   "metadata": {},
   "outputs": [
    {
     "name": "stderr",
     "output_type": "stream",
     "text": [
      "[Parallel(n_jobs=8)]: Using backend ThreadingBackend with 8 concurrent workers.\n",
      "[Parallel(n_jobs=8)]: Done  34 tasks      | elapsed:    0.0s\n",
      "[Parallel(n_jobs=8)]: Done 100 out of 100 | elapsed:    0.0s finished\n"
     ]
    },
    {
     "data": {
      "text/plain": [
       "array([0, 0, 1, ..., 0, 0, 1])"
      ]
     },
     "execution_count": 386,
     "metadata": {},
     "output_type": "execute_result"
    }
   ],
   "source": [
    "# Load the pickled model \n",
    "rf_from_pickle = pickle.loads(saved_model) \n",
    "  \n",
    "# Use the loaded pickled model to make predictions \n",
    "rf_from_pickle.predict(test) "
   ]
  },
  {
   "cell_type": "code",
   "execution_count": 387,
   "metadata": {},
   "outputs": [],
   "source": [
    "#Saving model in binary file\n",
    "\n",
    "with open('RF_model_pickle','wb') as file:\n",
    "    pickle.dump(model, file)"
   ]
  },
  {
   "cell_type": "code",
   "execution_count": null,
   "metadata": {},
   "outputs": [],
   "source": []
  },
  {
   "cell_type": "code",
   "execution_count": null,
   "metadata": {},
   "outputs": [],
   "source": []
  }
 ],
 "metadata": {
  "kernelspec": {
   "display_name": "Python 3",
   "language": "python",
   "name": "python3"
  },
  "language_info": {
   "codemirror_mode": {
    "name": "ipython",
    "version": 3
   },
   "file_extension": ".py",
   "mimetype": "text/x-python",
   "name": "python",
   "nbconvert_exporter": "python",
   "pygments_lexer": "ipython3",
   "version": "3.7.1"
  }
 },
 "nbformat": 4,
 "nbformat_minor": 2
}
