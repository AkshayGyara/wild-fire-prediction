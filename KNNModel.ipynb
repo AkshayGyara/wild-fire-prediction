{
 "cells": [
  {
   "cell_type": "code",
   "execution_count": 125,
   "metadata": {},
   "outputs": [],
   "source": [
    "import pandas as pd\n",
    "import matplotlib.pyplot as plt\n",
    "import seaborn as sb\n",
    "from sklearn.preprocessing import Imputer\n",
    "import numpy as np\n",
    "from imblearn import under_sampling \n",
    "from imblearn import over_sampling\n",
    "from imblearn.over_sampling import SMOTE\n",
    "from sklearn.model_selection import train_test_split\n",
    "from sklearn.metrics import confusion_matrix, classification_report\n",
    "import itertools"
   ]
  },
  {
   "cell_type": "code",
   "execution_count": 126,
   "metadata": {},
   "outputs": [
    {
     "name": "stdout",
     "output_type": "stream",
     "text": [
      "<class 'pandas.core.frame.DataFrame'>\n",
      "RangeIndex: 8034 entries, 0 to 8033\n",
      "Data columns (total 18 columns):\n",
      "STATION      8034 non-null int64\n",
      "DATE         8034 non-null object\n",
      "LATITUDE     8034 non-null float64\n",
      "LONGITUDE    8034 non-null float64\n",
      "ELEVATION    8034 non-null float64\n",
      "NAME         8034 non-null object\n",
      "TEMP         8034 non-null float64\n",
      "DEWP         8034 non-null float64\n",
      "SLP          8034 non-null float64\n",
      "STP          8034 non-null float64\n",
      "VISIB        8034 non-null float64\n",
      "WDSP         8034 non-null float64\n",
      "MXSPD        8034 non-null float64\n",
      "GUST         8034 non-null float64\n",
      "MAX          8034 non-null float64\n",
      "MIN          8034 non-null float64\n",
      "PRCP         8034 non-null float64\n",
      "Class        8034 non-null int64\n",
      "dtypes: float64(14), int64(2), object(2)\n",
      "memory usage: 1.1+ MB\n"
     ]
    }
   ],
   "source": [
    "inputdata = pd.read_csv('weatherdatafrom12-19.csv')\n",
    "inputdata.info()"
   ]
  },
  {
   "cell_type": "code",
   "execution_count": 127,
   "metadata": {},
   "outputs": [
    {
     "data": {
      "text/html": [
       "<div>\n",
       "<style scoped>\n",
       "    .dataframe tbody tr th:only-of-type {\n",
       "        vertical-align: middle;\n",
       "    }\n",
       "\n",
       "    .dataframe tbody tr th {\n",
       "        vertical-align: top;\n",
       "    }\n",
       "\n",
       "    .dataframe thead th {\n",
       "        text-align: right;\n",
       "    }\n",
       "</style>\n",
       "<table border=\"1\" class=\"dataframe\">\n",
       "  <thead>\n",
       "    <tr style=\"text-align: right;\">\n",
       "      <th></th>\n",
       "      <th>STATION</th>\n",
       "      <th>DATE</th>\n",
       "      <th>LATITUDE</th>\n",
       "      <th>LONGITUDE</th>\n",
       "      <th>ELEVATION</th>\n",
       "      <th>NAME</th>\n",
       "      <th>TEMP</th>\n",
       "      <th>DEWP</th>\n",
       "      <th>SLP</th>\n",
       "      <th>STP</th>\n",
       "      <th>VISIB</th>\n",
       "      <th>WDSP</th>\n",
       "      <th>MXSPD</th>\n",
       "      <th>GUST</th>\n",
       "      <th>MAX</th>\n",
       "      <th>MIN</th>\n",
       "      <th>PRCP</th>\n",
       "      <th>Class</th>\n",
       "    </tr>\n",
       "  </thead>\n",
       "  <tbody>\n",
       "    <tr>\n",
       "      <th>0</th>\n",
       "      <td>72290403178</td>\n",
       "      <td>1/1/12</td>\n",
       "      <td>32.57222</td>\n",
       "      <td>-116.97944</td>\n",
       "      <td>157.0</td>\n",
       "      <td>SAN DIEGO BROWN FIELD, CA US</td>\n",
       "      <td>58.1</td>\n",
       "      <td>44.2</td>\n",
       "      <td>1019.1</td>\n",
       "      <td>999.9</td>\n",
       "      <td>7.2</td>\n",
       "      <td>2.3</td>\n",
       "      <td>8.9</td>\n",
       "      <td>0.0</td>\n",
       "      <td>77.0</td>\n",
       "      <td>44.1</td>\n",
       "      <td>0.0</td>\n",
       "      <td>0</td>\n",
       "    </tr>\n",
       "    <tr>\n",
       "      <th>1</th>\n",
       "      <td>72290403178</td>\n",
       "      <td>1/2/12</td>\n",
       "      <td>32.57222</td>\n",
       "      <td>-116.97944</td>\n",
       "      <td>157.0</td>\n",
       "      <td>SAN DIEGO BROWN FIELD, CA US</td>\n",
       "      <td>58.3</td>\n",
       "      <td>43.4</td>\n",
       "      <td>1021.0</td>\n",
       "      <td>2.1</td>\n",
       "      <td>8.9</td>\n",
       "      <td>1.2</td>\n",
       "      <td>7.0</td>\n",
       "      <td>0.0</td>\n",
       "      <td>75.0</td>\n",
       "      <td>42.8</td>\n",
       "      <td>0.0</td>\n",
       "      <td>0</td>\n",
       "    </tr>\n",
       "    <tr>\n",
       "      <th>2</th>\n",
       "      <td>72290403178</td>\n",
       "      <td>1/3/12</td>\n",
       "      <td>32.57222</td>\n",
       "      <td>-116.97944</td>\n",
       "      <td>157.0</td>\n",
       "      <td>SAN DIEGO BROWN FIELD, CA US</td>\n",
       "      <td>58.4</td>\n",
       "      <td>44.3</td>\n",
       "      <td>1021.6</td>\n",
       "      <td>2.6</td>\n",
       "      <td>8.5</td>\n",
       "      <td>3.7</td>\n",
       "      <td>9.9</td>\n",
       "      <td>0.0</td>\n",
       "      <td>75.0</td>\n",
       "      <td>45.0</td>\n",
       "      <td>0.0</td>\n",
       "      <td>0</td>\n",
       "    </tr>\n",
       "    <tr>\n",
       "      <th>3</th>\n",
       "      <td>72290403178</td>\n",
       "      <td>1/4/12</td>\n",
       "      <td>32.57222</td>\n",
       "      <td>-116.97944</td>\n",
       "      <td>157.0</td>\n",
       "      <td>SAN DIEGO BROWN FIELD, CA US</td>\n",
       "      <td>64.2</td>\n",
       "      <td>38.6</td>\n",
       "      <td>1022.3</td>\n",
       "      <td>3.3</td>\n",
       "      <td>9.4</td>\n",
       "      <td>3.5</td>\n",
       "      <td>8.0</td>\n",
       "      <td>0.0</td>\n",
       "      <td>87.1</td>\n",
       "      <td>48.9</td>\n",
       "      <td>0.0</td>\n",
       "      <td>0</td>\n",
       "    </tr>\n",
       "    <tr>\n",
       "      <th>4</th>\n",
       "      <td>72290403178</td>\n",
       "      <td>1/5/12</td>\n",
       "      <td>32.57222</td>\n",
       "      <td>-116.97944</td>\n",
       "      <td>157.0</td>\n",
       "      <td>SAN DIEGO BROWN FIELD, CA US</td>\n",
       "      <td>68.0</td>\n",
       "      <td>27.5</td>\n",
       "      <td>1020.1</td>\n",
       "      <td>1.3</td>\n",
       "      <td>10.0</td>\n",
       "      <td>5.0</td>\n",
       "      <td>11.1</td>\n",
       "      <td>0.0</td>\n",
       "      <td>84.0</td>\n",
       "      <td>55.9</td>\n",
       "      <td>0.0</td>\n",
       "      <td>0</td>\n",
       "    </tr>\n",
       "  </tbody>\n",
       "</table>\n",
       "</div>"
      ],
      "text/plain": [
       "       STATION    DATE  LATITUDE  LONGITUDE  ELEVATION  \\\n",
       "0  72290403178  1/1/12  32.57222 -116.97944      157.0   \n",
       "1  72290403178  1/2/12  32.57222 -116.97944      157.0   \n",
       "2  72290403178  1/3/12  32.57222 -116.97944      157.0   \n",
       "3  72290403178  1/4/12  32.57222 -116.97944      157.0   \n",
       "4  72290403178  1/5/12  32.57222 -116.97944      157.0   \n",
       "\n",
       "                           NAME  TEMP  DEWP     SLP    STP  VISIB  WDSP  \\\n",
       "0  SAN DIEGO BROWN FIELD, CA US  58.1  44.2  1019.1  999.9    7.2   2.3   \n",
       "1  SAN DIEGO BROWN FIELD, CA US  58.3  43.4  1021.0    2.1    8.9   1.2   \n",
       "2  SAN DIEGO BROWN FIELD, CA US  58.4  44.3  1021.6    2.6    8.5   3.7   \n",
       "3  SAN DIEGO BROWN FIELD, CA US  64.2  38.6  1022.3    3.3    9.4   3.5   \n",
       "4  SAN DIEGO BROWN FIELD, CA US  68.0  27.5  1020.1    1.3   10.0   5.0   \n",
       "\n",
       "   MXSPD  GUST   MAX   MIN  PRCP  Class  \n",
       "0    8.9   0.0  77.0  44.1   0.0      0  \n",
       "1    7.0   0.0  75.0  42.8   0.0      0  \n",
       "2    9.9   0.0  75.0  45.0   0.0      0  \n",
       "3    8.0   0.0  87.1  48.9   0.0      0  \n",
       "4   11.1   0.0  84.0  55.9   0.0      0  "
      ]
     },
     "execution_count": 127,
     "metadata": {},
     "output_type": "execute_result"
    }
   ],
   "source": [
    "inputdata.head()"
   ]
  },
  {
   "cell_type": "code",
   "execution_count": 128,
   "metadata": {},
   "outputs": [
    {
     "data": {
      "text/html": [
       "<div>\n",
       "<style scoped>\n",
       "    .dataframe tbody tr th:only-of-type {\n",
       "        vertical-align: middle;\n",
       "    }\n",
       "\n",
       "    .dataframe tbody tr th {\n",
       "        vertical-align: top;\n",
       "    }\n",
       "\n",
       "    .dataframe thead th {\n",
       "        text-align: right;\n",
       "    }\n",
       "</style>\n",
       "<table border=\"1\" class=\"dataframe\">\n",
       "  <thead>\n",
       "    <tr style=\"text-align: right;\">\n",
       "      <th></th>\n",
       "      <th>STATION</th>\n",
       "      <th>LATITUDE</th>\n",
       "      <th>LONGITUDE</th>\n",
       "      <th>ELEVATION</th>\n",
       "      <th>TEMP</th>\n",
       "      <th>DEWP</th>\n",
       "      <th>SLP</th>\n",
       "      <th>STP</th>\n",
       "      <th>VISIB</th>\n",
       "      <th>WDSP</th>\n",
       "      <th>MXSPD</th>\n",
       "      <th>GUST</th>\n",
       "      <th>MAX</th>\n",
       "      <th>MIN</th>\n",
       "      <th>PRCP</th>\n",
       "      <th>Class</th>\n",
       "    </tr>\n",
       "  </thead>\n",
       "  <tbody>\n",
       "    <tr>\n",
       "      <th>count</th>\n",
       "      <td>8.034000e+03</td>\n",
       "      <td>8034.000000</td>\n",
       "      <td>8034.000000</td>\n",
       "      <td>8034.000000</td>\n",
       "      <td>8034.000000</td>\n",
       "      <td>8034.000000</td>\n",
       "      <td>8034.000000</td>\n",
       "      <td>8034.000000</td>\n",
       "      <td>8034.000000</td>\n",
       "      <td>8034.000000</td>\n",
       "      <td>8034.000000</td>\n",
       "      <td>8034.000000</td>\n",
       "      <td>8034.000000</td>\n",
       "      <td>8034.000000</td>\n",
       "      <td>8034.000000</td>\n",
       "      <td>8034.000000</td>\n",
       "    </tr>\n",
       "    <tr>\n",
       "      <th>mean</th>\n",
       "      <td>7.229024e+10</td>\n",
       "      <td>32.707267</td>\n",
       "      <td>-117.100705</td>\n",
       "      <td>96.210642</td>\n",
       "      <td>64.147399</td>\n",
       "      <td>52.206746</td>\n",
       "      <td>1034.346477</td>\n",
       "      <td>464.158676</td>\n",
       "      <td>9.221646</td>\n",
       "      <td>4.442930</td>\n",
       "      <td>11.175342</td>\n",
       "      <td>5.433993</td>\n",
       "      <td>74.876363</td>\n",
       "      <td>58.262509</td>\n",
       "      <td>0.025233</td>\n",
       "      <td>0.021036</td>\n",
       "    </tr>\n",
       "    <tr>\n",
       "      <th>std</th>\n",
       "      <td>1.608311e+05</td>\n",
       "      <td>0.101180</td>\n",
       "      <td>0.087540</td>\n",
       "      <td>65.940282</td>\n",
       "      <td>7.027083</td>\n",
       "      <td>111.494518</td>\n",
       "      <td>412.893324</td>\n",
       "      <td>491.564995</td>\n",
       "      <td>1.229152</td>\n",
       "      <td>1.622165</td>\n",
       "      <td>27.181244</td>\n",
       "      <td>8.988141</td>\n",
       "      <td>8.473383</td>\n",
       "      <td>157.118082</td>\n",
       "      <td>0.130976</td>\n",
       "      <td>0.143512</td>\n",
       "    </tr>\n",
       "    <tr>\n",
       "      <th>min</th>\n",
       "      <td>7.229002e+10</td>\n",
       "      <td>32.572220</td>\n",
       "      <td>-117.183100</td>\n",
       "      <td>4.600000</td>\n",
       "      <td>43.600000</td>\n",
       "      <td>3.900000</td>\n",
       "      <td>1000.100000</td>\n",
       "      <td>0.000000</td>\n",
       "      <td>2.200000</td>\n",
       "      <td>0.900000</td>\n",
       "      <td>4.100000</td>\n",
       "      <td>0.000000</td>\n",
       "      <td>53.100000</td>\n",
       "      <td>30.000000</td>\n",
       "      <td>0.000000</td>\n",
       "      <td>0.000000</td>\n",
       "    </tr>\n",
       "    <tr>\n",
       "      <th>25%</th>\n",
       "      <td>7.229002e+10</td>\n",
       "      <td>32.572220</td>\n",
       "      <td>-117.183100</td>\n",
       "      <td>4.600000</td>\n",
       "      <td>59.300000</td>\n",
       "      <td>45.700000</td>\n",
       "      <td>1012.800000</td>\n",
       "      <td>11.200000</td>\n",
       "      <td>8.900000</td>\n",
       "      <td>3.400000</td>\n",
       "      <td>8.900000</td>\n",
       "      <td>0.000000</td>\n",
       "      <td>69.100000</td>\n",
       "      <td>50.000000</td>\n",
       "      <td>0.000000</td>\n",
       "      <td>0.000000</td>\n",
       "    </tr>\n",
       "    <tr>\n",
       "      <th>50%</th>\n",
       "      <td>7.229030e+10</td>\n",
       "      <td>32.733600</td>\n",
       "      <td>-117.139440</td>\n",
       "      <td>127.100000</td>\n",
       "      <td>63.600000</td>\n",
       "      <td>52.800000</td>\n",
       "      <td>1015.000000</td>\n",
       "      <td>19.100000</td>\n",
       "      <td>9.800000</td>\n",
       "      <td>4.200000</td>\n",
       "      <td>9.900000</td>\n",
       "      <td>0.000000</td>\n",
       "      <td>75.000000</td>\n",
       "      <td>55.900000</td>\n",
       "      <td>0.000000</td>\n",
       "      <td>0.000000</td>\n",
       "    </tr>\n",
       "    <tr>\n",
       "      <th>75%</th>\n",
       "      <td>7.229040e+10</td>\n",
       "      <td>32.815830</td>\n",
       "      <td>-116.979440</td>\n",
       "      <td>157.000000</td>\n",
       "      <td>69.200000</td>\n",
       "      <td>58.500000</td>\n",
       "      <td>1017.600000</td>\n",
       "      <td>996.300000</td>\n",
       "      <td>10.000000</td>\n",
       "      <td>5.200000</td>\n",
       "      <td>11.100000</td>\n",
       "      <td>15.000000</td>\n",
       "      <td>80.100000</td>\n",
       "      <td>62.100000</td>\n",
       "      <td>0.000000</td>\n",
       "      <td>0.000000</td>\n",
       "    </tr>\n",
       "    <tr>\n",
       "      <th>max</th>\n",
       "      <td>7.229040e+10</td>\n",
       "      <td>32.815830</td>\n",
       "      <td>-116.979440</td>\n",
       "      <td>157.000000</td>\n",
       "      <td>90.000000</td>\n",
       "      <td>9999.900000</td>\n",
       "      <td>9999.900000</td>\n",
       "      <td>999.900000</td>\n",
       "      <td>10.000000</td>\n",
       "      <td>19.300000</td>\n",
       "      <td>999.900000</td>\n",
       "      <td>79.100000</td>\n",
       "      <td>107.100000</td>\n",
       "      <td>9999.900000</td>\n",
       "      <td>2.920000</td>\n",
       "      <td>1.000000</td>\n",
       "    </tr>\n",
       "  </tbody>\n",
       "</table>\n",
       "</div>"
      ],
      "text/plain": [
       "            STATION     LATITUDE    LONGITUDE    ELEVATION         TEMP  \\\n",
       "count  8.034000e+03  8034.000000  8034.000000  8034.000000  8034.000000   \n",
       "mean   7.229024e+10    32.707267  -117.100705    96.210642    64.147399   \n",
       "std    1.608311e+05     0.101180     0.087540    65.940282     7.027083   \n",
       "min    7.229002e+10    32.572220  -117.183100     4.600000    43.600000   \n",
       "25%    7.229002e+10    32.572220  -117.183100     4.600000    59.300000   \n",
       "50%    7.229030e+10    32.733600  -117.139440   127.100000    63.600000   \n",
       "75%    7.229040e+10    32.815830  -116.979440   157.000000    69.200000   \n",
       "max    7.229040e+10    32.815830  -116.979440   157.000000    90.000000   \n",
       "\n",
       "              DEWP          SLP          STP        VISIB         WDSP  \\\n",
       "count  8034.000000  8034.000000  8034.000000  8034.000000  8034.000000   \n",
       "mean     52.206746  1034.346477   464.158676     9.221646     4.442930   \n",
       "std     111.494518   412.893324   491.564995     1.229152     1.622165   \n",
       "min       3.900000  1000.100000     0.000000     2.200000     0.900000   \n",
       "25%      45.700000  1012.800000    11.200000     8.900000     3.400000   \n",
       "50%      52.800000  1015.000000    19.100000     9.800000     4.200000   \n",
       "75%      58.500000  1017.600000   996.300000    10.000000     5.200000   \n",
       "max    9999.900000  9999.900000   999.900000    10.000000    19.300000   \n",
       "\n",
       "             MXSPD         GUST          MAX          MIN         PRCP  \\\n",
       "count  8034.000000  8034.000000  8034.000000  8034.000000  8034.000000   \n",
       "mean     11.175342     5.433993    74.876363    58.262509     0.025233   \n",
       "std      27.181244     8.988141     8.473383   157.118082     0.130976   \n",
       "min       4.100000     0.000000    53.100000    30.000000     0.000000   \n",
       "25%       8.900000     0.000000    69.100000    50.000000     0.000000   \n",
       "50%       9.900000     0.000000    75.000000    55.900000     0.000000   \n",
       "75%      11.100000    15.000000    80.100000    62.100000     0.000000   \n",
       "max     999.900000    79.100000   107.100000  9999.900000     2.920000   \n",
       "\n",
       "             Class  \n",
       "count  8034.000000  \n",
       "mean      0.021036  \n",
       "std       0.143512  \n",
       "min       0.000000  \n",
       "25%       0.000000  \n",
       "50%       0.000000  \n",
       "75%       0.000000  \n",
       "max       1.000000  "
      ]
     },
     "execution_count": 128,
     "metadata": {},
     "output_type": "execute_result"
    }
   ],
   "source": [
    "inputdata.describe()"
   ]
  },
  {
   "cell_type": "code",
   "execution_count": 129,
   "metadata": {},
   "outputs": [
    {
     "data": {
      "text/plain": [
       "STATION      0\n",
       "DATE         0\n",
       "LATITUDE     0\n",
       "LONGITUDE    0\n",
       "ELEVATION    0\n",
       "NAME         0\n",
       "TEMP         0\n",
       "DEWP         0\n",
       "SLP          0\n",
       "STP          0\n",
       "VISIB        0\n",
       "WDSP         0\n",
       "MXSPD        0\n",
       "GUST         0\n",
       "MAX          0\n",
       "MIN          0\n",
       "PRCP         0\n",
       "Class        0\n",
       "dtype: int64"
      ]
     },
     "execution_count": 129,
     "metadata": {},
     "output_type": "execute_result"
    }
   ],
   "source": [
    "inputdata.isnull().sum()"
   ]
  },
  {
   "cell_type": "code",
   "execution_count": 130,
   "metadata": {},
   "outputs": [
    {
     "data": {
      "image/png": "[encoded data removed]",
      "text/plain": [
       "<Figure size 432x288 with 1 Axes>"
      ]
     },
     "metadata": {
      "needs_background": "light"
     },
     "output_type": "display_data"
    }
   ],
   "source": [
    "sb.countplot(x='Class',data=inputdata,palette ='Set2')\n",
    "plt.show()"
   ]
  },
  {
   "cell_type": "code",
   "execution_count": 131,
   "metadata": {},
   "outputs": [],
   "source": [
    "# Extract the labels\n",
    "labels = np.array(inputdata.pop('Class'))"
   ]
  },
  {
   "cell_type": "code",
   "execution_count": 132,
   "metadata": {},
   "outputs": [],
   "source": [
    "inputdata = inputdata.select_dtypes('number')"
   ]
  },
  {
   "cell_type": "code",
   "execution_count": 133,
   "metadata": {},
   "outputs": [
    {
     "data": {
      "image/png": "[encoded data removed]",
      "text/plain": [
       "<Figure size 1440x1080 with 16 Axes>"
      ]
     },
     "metadata": {
      "needs_background": "light"
     },
     "output_type": "display_data"
    }
   ],
   "source": [
    "inputdata.hist(bins = 50, figsize = (20,15))\n",
    "plt.show()"
   ]
  },
  {
   "cell_type": "code",
   "execution_count": 134,
   "metadata": {},
   "outputs": [
    {
     "name": "stdout",
     "output_type": "stream",
     "text": [
      "length of oversampled data is  11006\n",
      "Number of no fire in oversampled data 5503\n",
      "Number of  fire in oversampled data 5503\n",
      "Proportion of no fire data in oversampled data is  0.5\n",
      "Proportion of  fire data in oversampled data is  0.5\n"
     ]
    }
   ],
   "source": [
    "from imblearn.over_sampling import SMOTE\n",
    "os = SMOTE(random_state=0)\n",
    "X_train, X_test, y_train, y_test = train_test_split(inputdata, labels, test_size=0.3, random_state=0)\n",
    "columns = X_train.columns\n",
    "os_data_X,os_data_y=os.fit_sample(X_train, y_train)\n",
    "os_data_X = pd.DataFrame(data=os_data_X,columns=columns )\n",
    "os_data_y= pd.DataFrame(data=os_data_y,columns=['Class'])\n",
    "# we can Check the numbers of our data\n",
    "print(\"length of oversampled data is \",len(os_data_X))\n",
    "print(\"Number of no fire in oversampled data\",len(os_data_y[os_data_y['Class']==0]))\n",
    "print(\"Number of  fire in oversampled data\",len(os_data_y[os_data_y['Class']==1]))\n",
    "print(\"Proportion of no fire data in oversampled data is \",len(os_data_y[os_data_y['Class']==0])/len(os_data_X))\n",
    "print(\"Proportion of  fire data in oversampled data is \",len(os_data_y[os_data_y['Class']==1])/len(os_data_X))"
   ]
  },
  {
   "cell_type": "code",
   "execution_count": 135,
   "metadata": {},
   "outputs": [],
   "source": [
    "inputdata = os_data_X\n",
    "labels = os_data_y"
   ]
  },
  {
   "cell_type": "code",
   "execution_count": 136,
   "metadata": {},
   "outputs": [
    {
     "name": "stdout",
     "output_type": "stream",
     "text": [
      "7704 train + 3302 test\n"
     ]
    }
   ],
   "source": [
    "train, test, train_labels, test_labels = train_test_split(inputdata,\n",
    "                                         labels, \n",
    "                                         stratify = labels,\n",
    "                                         test_size = 0.3, \n",
    "                                         random_state = 42)\n",
    "print(len(train), \"train +\", len(test), \"test\")"
   ]
  },
  {
   "cell_type": "code",
   "execution_count": 137,
   "metadata": {},
   "outputs": [],
   "source": [
    "# Imputation of missing values\n",
    "train = train.fillna(train.mean())\n",
    "test = test.fillna(test.mean())"
   ]
  },
  {
   "cell_type": "code",
   "execution_count": 138,
   "metadata": {},
   "outputs": [],
   "source": [
    "# Features for feature importances\n",
    "features = list(train.columns)"
   ]
  },
  {
   "cell_type": "code",
   "execution_count": 139,
   "metadata": {},
   "outputs": [
    {
     "name": "stderr",
     "output_type": "stream",
     "text": [
      "/Users/shalu/anaconda3/lib/python3.7/site-packages/sklearn/preprocessing/data.py:176: UserWarning: Numerical issues were encountered when centering the data and might not be solved. Dataset may contain too large values. You may need to prescale your features.\n",
      "  warnings.warn(\"Numerical issues were encountered \"\n"
     ]
    }
   ],
   "source": [
    "from sklearn import preprocessing\n",
    "X_scaled = preprocessing.scale(train)\n",
    "X_scaled.mean(axis=0)\n",
    "X_scaled.std(axis=0)\n",
    "scaler = preprocessing.StandardScaler().fit(train)\n",
    "scaler.mean_\n",
    "scaler.scale_ \n",
    "train = scaler.transform(train)\n",
    "test = scaler.transform(test) "
   ]
  },
  {
   "cell_type": "code",
   "execution_count": 140,
   "metadata": {},
   "outputs": [
    {
     "data": {
      "text/plain": [
       "(11006, 15)"
      ]
     },
     "execution_count": 140,
     "metadata": {},
     "output_type": "execute_result"
    }
   ],
   "source": [
    "inputdata.shape"
   ]
  },
  {
   "cell_type": "code",
   "execution_count": 141,
   "metadata": {},
   "outputs": [
    {
     "data": {
      "text/plain": [
       "(7704, 15)"
      ]
     },
     "execution_count": 141,
     "metadata": {},
     "output_type": "execute_result"
    }
   ],
   "source": [
    "test.shape\n",
    "train.shape"
   ]
  },
  {
   "cell_type": "code",
   "execution_count": 142,
   "metadata": {},
   "outputs": [
    {
     "name": "stderr",
     "output_type": "stream",
     "text": [
      "/Users/shalu/anaconda3/lib/python3.7/site-packages/ipykernel_launcher.py:6: DataConversionWarning: A column-vector y was passed when a 1d array was expected. Please change the shape of y to (n_samples, ), for example using ravel().\n",
      "  \n"
     ]
    },
    {
     "name": "stdout",
     "output_type": "stream",
     "text": [
      "\n",
      "\tK Nearest Neighbors (NN = 3)\n",
      "\n",
      "Accuracy Score: 94.09448818897637%\n",
      "Confusion Matrix: \n",
      "[[1461  190]\n",
      " [   5 1646]]\n",
      "\n",
      "\n",
      "              precision    recall  f1-score   support\n",
      "\n",
      "           0       1.00      0.88      0.94      1651\n",
      "           1       0.90      1.00      0.94      1651\n",
      "\n",
      "   micro avg       0.94      0.94      0.94      3302\n",
      "   macro avg       0.95      0.94      0.94      3302\n",
      "weighted avg       0.95      0.94      0.94      3302\n",
      "\n"
     ]
    }
   ],
   "source": [
    "from sklearn.neighbors import KNeighborsClassifier\n",
    "from sklearn import metrics\n",
    "\n",
    "# Accuracy and F1-score using KNN model\n",
    "KNN = KNeighborsClassifier(n_neighbors = 3)\n",
    "KNN.fit(train, train_labels)\n",
    "knn_pred = KNN.predict(test)\n",
    "print('\\n\\tK Nearest Neighbors (NN = 3)\\n')\n",
    "print('Accuracy Score: ',metrics.accuracy_score(test_labels, knn_pred)*100, '%', sep = '')\n",
    "print('Confusion Matrix: ',metrics.confusion_matrix(test_labels, knn_pred), sep = '\\n')\n",
    "print('\\n')\n",
    "print(classification_report(test_labels, knn_pred))"
   ]
  },
  {
   "cell_type": "code",
   "execution_count": 143,
   "metadata": {},
   "outputs": [
    {
     "name": "stdout",
     "output_type": "stream",
     "text": [
      "              precision    recall  f1-score   support\n",
      "\n",
      "           0       1.00      0.88      0.94      1651\n",
      "           1       0.90      1.00      0.94      1651\n",
      "\n",
      "   micro avg       0.94      0.94      0.94      3302\n",
      "   macro avg       0.95      0.94      0.94      3302\n",
      "weighted avg       0.95      0.94      0.94      3302\n",
      "\n"
     ]
    }
   ],
   "source": [
    "from sklearn.metrics import classification_report\n",
    "print(classification_report(test_labels, knn_pred))"
   ]
  },
  {
   "cell_type": "code",
   "execution_count": 144,
   "metadata": {},
   "outputs": [],
   "source": [
    "def plot_confusion_matrix(cm, classes,\n",
    "                          normalize=False,\n",
    "                          title='Confusion matrix',\n",
    "                          cmap=plt.cm.Oranges):\n",
    "    \"\"\"\n",
    "    This function prints and plots the confusion matrix.\n",
    "    Normalization can be applied by setting `normalize=True`.\n",
    "    Source: http://scikit-learn.org/stable/auto_examples/model_selection/plot_confusion_matrix.html\n",
    "    \"\"\"\n",
    "    if normalize:\n",
    "        cm = cm.astype('float') / cm.sum(axis=1)[:, np.newaxis]\n",
    "        print(\"Normalized confusion matrix\")\n",
    "    else:\n",
    "        print('Confusion matrix, without normalization')\n",
    "\n",
    "    print(cm)\n",
    "\n",
    "    # Plot the confusion matrix\n",
    "    plt.figure(figsize = (10, 10))\n",
    "    plt.imshow(cm, interpolation='nearest', cmap=cmap)\n",
    "    plt.title(title, size = 24)\n",
    "    plt.colorbar(aspect=4)\n",
    "    tick_marks = np.arange(len(classes))\n",
    "    plt.xticks(tick_marks, classes, rotation=45, size = 14)\n",
    "    plt.yticks(tick_marks, classes, size = 14)\n",
    "\n",
    "    fmt = '.2f' if normalize else 'd'\n",
    "    thresh = cm.max() / 2.\n",
    "    \n",
    "    # Labeling the plot\n",
    "    for i, j in itertools.product(range(cm.shape[0]), range(cm.shape[1])):\n",
    "        plt.text(j, i, format(cm[i, j], fmt), fontsize = 20,\n",
    "                 horizontalalignment=\"center\",\n",
    "                 color=\"white\" if cm[i, j] > thresh else \"black\")\n",
    "        \n",
    "    plt.grid(None)\n",
    "    plt.tight_layout()\n",
    "    plt.ylabel('True label', size = 18)\n",
    "    plt.xlabel('Predicted label', size = 18)"
   ]
  },
  {
   "cell_type": "code",
   "execution_count": 145,
   "metadata": {},
   "outputs": [
    {
     "name": "stdout",
     "output_type": "stream",
     "text": [
      "Confusion matrix, without normalization\n",
      "[[1461  190]\n",
      " [   5 1646]]\n"
     ]
    },
    {
     "data": {
      "image/png": "[encoded data removed]",
      "text/plain": [
       "<Figure size 720x720 with 2 Axes>"
      ]
     },
     "metadata": {
      "needs_background": "light"
     },
     "output_type": "display_data"
    }
   ],
   "source": [
    "plot_confusion_matrix(metrics.confusion_matrix(test_labels, knn_pred), classes = ['No-Fire', 'Fire'],\n",
    "                      title = 'Fire Confusion Matrix')\n",
    "\n",
    "plt.savefig('KNN_confusion_matrix.png')"
   ]
  },
  {
   "cell_type": "code",
   "execution_count": 146,
   "metadata": {},
   "outputs": [],
   "source": [
    "from sklearn.metrics import roc_auc_score\n",
    "\n",
    "# Calculate roc auc\n",
    "roc_value = roc_auc_score(test_labels, knn_pred)"
   ]
  },
  {
   "cell_type": "code",
   "execution_count": 147,
   "metadata": {},
   "outputs": [
    {
     "data": {
      "text/plain": [
       "0.9409448818897638"
      ]
     },
     "execution_count": 147,
     "metadata": {},
     "output_type": "execute_result"
    }
   ],
   "source": [
    "roc_value"
   ]
  },
  {
   "cell_type": "code",
   "execution_count": 148,
   "metadata": {},
   "outputs": [],
   "source": [
    "#Saving the model\n",
    "\n",
    "import pickle\n",
    "\n",
    "# Save the trained model as a pickle string. \n",
    "saved_model = pickle.dumps(KNN)"
   ]
  },
  {
   "cell_type": "code",
   "execution_count": 149,
   "metadata": {},
   "outputs": [
    {
     "data": {
      "text/plain": [
       "array([0, 0, 1, ..., 0, 0, 1])"
      ]
     },
     "execution_count": 149,
     "metadata": {},
     "output_type": "execute_result"
    }
   ],
   "source": [
    "# Load the pickled model \n",
    "knn_from_pickle = pickle.loads(saved_model) \n",
    "  \n",
    "# Use the loaded pickled model to make predictions \n",
    "knn_from_pickle.predict(test) "
   ]
  },
  {
   "cell_type": "code",
   "execution_count": 150,
   "metadata": {},
   "outputs": [],
   "source": [
    "#Saving model in binary file\n",
    "\n",
    "with open('KNN_model_pickle','wb') as file:\n",
    "    pickle.dump(KNN, file)"
   ]
  },
  {
   "cell_type": "code",
   "execution_count": null,
   "metadata": {},
   "outputs": [],
   "source": []
  },
  {
   "cell_type": "code",
   "execution_count": null,
   "metadata": {},
   "outputs": [],
   "source": []
  }
 ],
 "metadata": {
  "kernelspec": {
   "display_name": "Python 3",
   "language": "python",
   "name": "python3"
  },
  "language_info": {
   "codemirror_mode": {
    "name": "ipython",
    "version": 3
   },
   "file_extension": ".py",
   "mimetype": "text/x-python",
   "name": "python",
   "nbconvert_exporter": "python",
   "pygments_lexer": "ipython3",
   "version": "3.7.1"
  }
 },
 "nbformat": 4,
 "nbformat_minor": 2
}
