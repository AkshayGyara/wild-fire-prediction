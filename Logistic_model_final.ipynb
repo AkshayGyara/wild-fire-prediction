{
 "cells": [
  {
   "cell_type": "code",
   "execution_count": 1,
   "metadata": {},
   "outputs": [],
   "source": [
    "import pandas as pd\n",
    "import numpy as np\n",
    "from sklearn import preprocessing\n",
    "import matplotlib.pyplot as plt \n",
    "plt.rc(\"font\", size=14)\n",
    "from sklearn.linear_model import LogisticRegression\n",
    "from sklearn.model_selection import train_test_split\n",
    "import seaborn as sns\n",
    "sns.set(style=\"white\")\n",
    "sns.set(style=\"whitegrid\", color_codes=True)"
   ]
  },
  {
   "cell_type": "code",
   "execution_count": 2,
   "metadata": {},
   "outputs": [
    {
     "name": "stdout",
     "output_type": "stream",
     "text": [
      "(8034, 18)\n",
      "['STATION', 'DATE', 'LATITUDE', 'LONGITUDE', 'ELEVATION', 'NAME', 'TEMP', 'DEWP', 'SLP', 'STP', 'VISIB', 'WDSP', 'MXSPD', 'GUST', 'MAX', 'MIN', 'PRCP', 'Class']\n"
     ]
    }
   ],
   "source": [
    "data= pd.read_csv(\"D:\\ML project\\weatherdata.csv\")\n",
    "data= data.dropna()\n",
    "print(data.shape)\n",
    "print(list(data.columns))"
   ]
  },
  {
   "cell_type": "code",
   "execution_count": 3,
   "metadata": {},
   "outputs": [
    {
     "data": {
      "text/html": [
       "<div>\n",
       "<style scoped>\n",
       "    .dataframe tbody tr th:only-of-type {\n",
       "        vertical-align: middle;\n",
       "    }\n",
       "\n",
       "    .dataframe tbody tr th {\n",
       "        vertical-align: top;\n",
       "    }\n",
       "\n",
       "    .dataframe thead th {\n",
       "        text-align: right;\n",
       "    }\n",
       "</style>\n",
       "<table border=\"1\" class=\"dataframe\">\n",
       "  <thead>\n",
       "    <tr style=\"text-align: right;\">\n",
       "      <th></th>\n",
       "      <th>STATION</th>\n",
       "      <th>DATE</th>\n",
       "      <th>LATITUDE</th>\n",
       "      <th>LONGITUDE</th>\n",
       "      <th>ELEVATION</th>\n",
       "      <th>NAME</th>\n",
       "      <th>TEMP</th>\n",
       "      <th>DEWP</th>\n",
       "      <th>SLP</th>\n",
       "      <th>STP</th>\n",
       "      <th>VISIB</th>\n",
       "      <th>WDSP</th>\n",
       "      <th>MXSPD</th>\n",
       "      <th>GUST</th>\n",
       "      <th>MAX</th>\n",
       "      <th>MIN</th>\n",
       "      <th>PRCP</th>\n",
       "      <th>Class</th>\n",
       "    </tr>\n",
       "  </thead>\n",
       "  <tbody>\n",
       "    <tr>\n",
       "      <th>0</th>\n",
       "      <td>72290403178</td>\n",
       "      <td>1/1/2012</td>\n",
       "      <td>32.57222</td>\n",
       "      <td>-116.97944</td>\n",
       "      <td>157.0</td>\n",
       "      <td>SAN DIEGO BROWN FIELD, CA US</td>\n",
       "      <td>58.1</td>\n",
       "      <td>44.2</td>\n",
       "      <td>1019.1</td>\n",
       "      <td>999.9</td>\n",
       "      <td>7.2</td>\n",
       "      <td>2.3</td>\n",
       "      <td>8.9</td>\n",
       "      <td>0.0</td>\n",
       "      <td>77.0</td>\n",
       "      <td>44.1</td>\n",
       "      <td>0.0</td>\n",
       "      <td>0</td>\n",
       "    </tr>\n",
       "    <tr>\n",
       "      <th>1</th>\n",
       "      <td>72290403178</td>\n",
       "      <td>1/2/2012</td>\n",
       "      <td>32.57222</td>\n",
       "      <td>-116.97944</td>\n",
       "      <td>157.0</td>\n",
       "      <td>SAN DIEGO BROWN FIELD, CA US</td>\n",
       "      <td>58.3</td>\n",
       "      <td>43.4</td>\n",
       "      <td>1021.0</td>\n",
       "      <td>2.1</td>\n",
       "      <td>8.9</td>\n",
       "      <td>1.2</td>\n",
       "      <td>7.0</td>\n",
       "      <td>0.0</td>\n",
       "      <td>75.0</td>\n",
       "      <td>42.8</td>\n",
       "      <td>0.0</td>\n",
       "      <td>0</td>\n",
       "    </tr>\n",
       "    <tr>\n",
       "      <th>2</th>\n",
       "      <td>72290403178</td>\n",
       "      <td>1/3/2012</td>\n",
       "      <td>32.57222</td>\n",
       "      <td>-116.97944</td>\n",
       "      <td>157.0</td>\n",
       "      <td>SAN DIEGO BROWN FIELD, CA US</td>\n",
       "      <td>58.4</td>\n",
       "      <td>44.3</td>\n",
       "      <td>1021.6</td>\n",
       "      <td>2.6</td>\n",
       "      <td>8.5</td>\n",
       "      <td>3.7</td>\n",
       "      <td>9.9</td>\n",
       "      <td>0.0</td>\n",
       "      <td>75.0</td>\n",
       "      <td>45.0</td>\n",
       "      <td>0.0</td>\n",
       "      <td>0</td>\n",
       "    </tr>\n",
       "    <tr>\n",
       "      <th>3</th>\n",
       "      <td>72290403178</td>\n",
       "      <td>1/4/2012</td>\n",
       "      <td>32.57222</td>\n",
       "      <td>-116.97944</td>\n",
       "      <td>157.0</td>\n",
       "      <td>SAN DIEGO BROWN FIELD, CA US</td>\n",
       "      <td>64.2</td>\n",
       "      <td>38.6</td>\n",
       "      <td>1022.3</td>\n",
       "      <td>3.3</td>\n",
       "      <td>9.4</td>\n",
       "      <td>3.5</td>\n",
       "      <td>8.0</td>\n",
       "      <td>0.0</td>\n",
       "      <td>87.1</td>\n",
       "      <td>48.9</td>\n",
       "      <td>0.0</td>\n",
       "      <td>0</td>\n",
       "    </tr>\n",
       "    <tr>\n",
       "      <th>4</th>\n",
       "      <td>72290403178</td>\n",
       "      <td>1/5/2012</td>\n",
       "      <td>32.57222</td>\n",
       "      <td>-116.97944</td>\n",
       "      <td>157.0</td>\n",
       "      <td>SAN DIEGO BROWN FIELD, CA US</td>\n",
       "      <td>68.0</td>\n",
       "      <td>27.5</td>\n",
       "      <td>1020.1</td>\n",
       "      <td>1.3</td>\n",
       "      <td>10.0</td>\n",
       "      <td>5.0</td>\n",
       "      <td>11.1</td>\n",
       "      <td>0.0</td>\n",
       "      <td>84.0</td>\n",
       "      <td>55.9</td>\n",
       "      <td>0.0</td>\n",
       "      <td>0</td>\n",
       "    </tr>\n",
       "  </tbody>\n",
       "</table>\n",
       "</div>"
      ],
      "text/plain": [
       "       STATION      DATE  LATITUDE  LONGITUDE  ELEVATION  \\\n",
       "0  72290403178  1/1/2012  32.57222 -116.97944      157.0   \n",
       "1  72290403178  1/2/2012  32.57222 -116.97944      157.0   \n",
       "2  72290403178  1/3/2012  32.57222 -116.97944      157.0   \n",
       "3  72290403178  1/4/2012  32.57222 -116.97944      157.0   \n",
       "4  72290403178  1/5/2012  32.57222 -116.97944      157.0   \n",
       "\n",
       "                           NAME  TEMP  DEWP     SLP    STP  VISIB  WDSP  \\\n",
       "0  SAN DIEGO BROWN FIELD, CA US  58.1  44.2  1019.1  999.9    7.2   2.3   \n",
       "1  SAN DIEGO BROWN FIELD, CA US  58.3  43.4  1021.0    2.1    8.9   1.2   \n",
       "2  SAN DIEGO BROWN FIELD, CA US  58.4  44.3  1021.6    2.6    8.5   3.7   \n",
       "3  SAN DIEGO BROWN FIELD, CA US  64.2  38.6  1022.3    3.3    9.4   3.5   \n",
       "4  SAN DIEGO BROWN FIELD, CA US  68.0  27.5  1020.1    1.3   10.0   5.0   \n",
       "\n",
       "   MXSPD  GUST   MAX   MIN  PRCP  Class  \n",
       "0    8.9   0.0  77.0  44.1   0.0      0  \n",
       "1    7.0   0.0  75.0  42.8   0.0      0  \n",
       "2    9.9   0.0  75.0  45.0   0.0      0  \n",
       "3    8.0   0.0  87.1  48.9   0.0      0  \n",
       "4   11.1   0.0  84.0  55.9   0.0      0  "
      ]
     },
     "execution_count": 3,
     "metadata": {},
     "output_type": "execute_result"
    }
   ],
   "source": [
    "data.head()"
   ]
  },
  {
   "cell_type": "code",
   "execution_count": 4,
   "metadata": {},
   "outputs": [
    {
     "data": {
      "text/plain": [
       "0    7865\n",
       "1     169\n",
       "Name: Class, dtype: int64"
      ]
     },
     "execution_count": 4,
     "metadata": {},
     "output_type": "execute_result"
    }
   ],
   "source": [
    "data['Class'].value_counts()"
   ]
  },
  {
   "cell_type": "code",
   "execution_count": 5,
   "metadata": {},
   "outputs": [
    {
     "name": "stderr",
     "output_type": "stream",
     "text": [
      "C:\\Users\\aksha\\Anaconda3\\envs\\tensorflow1\\lib\\site-packages\\seaborn\\categorical.py:1460: FutureWarning: remove_na is deprecated and is a private function. Do not use.\n",
      "  stat_data = remove_na(group_data)\n"
     ]
    },
    {
     "data": {
      "image/png": "[encoded data removed]",
      "text/plain": [
       "<Figure size 432x288 with 1 Axes>"
      ]
     },
     "metadata": {
      "needs_background": "light"
     },
     "output_type": "display_data"
    }
   ],
   "source": [
    "sns.countplot(x='Class',data=data,palette ='hls')\n",
    "plt.show()\n"
   ]
  },
  {
   "cell_type": "code",
   "execution_count": 6,
   "metadata": {},
   "outputs": [
    {
     "name": "stdout",
     "output_type": "stream",
     "text": [
      "percentage of no fire is 97.89644012944983\n",
      "percentage of fire 2.103559870550162\n"
     ]
    }
   ],
   "source": [
    "count_no_sub = len(data[data['Class']==0])\n",
    "count_sub = len(data[data['Class']==1])\n",
    "pct_of_no_sub = count_no_sub/(count_no_sub+count_sub)\n",
    "print(\"percentage of no fire is\", pct_of_no_sub*100)\n",
    "pct_of_sub = count_sub/(count_no_sub+count_sub)\n",
    "print(\"percentage of fire\", pct_of_sub*100)"
   ]
  },
  {
   "cell_type": "code",
   "execution_count": 7,
   "metadata": {},
   "outputs": [
    {
     "data": {
      "text/html": [
       "<div>\n",
       "<style scoped>\n",
       "    .dataframe tbody tr th:only-of-type {\n",
       "        vertical-align: middle;\n",
       "    }\n",
       "\n",
       "    .dataframe tbody tr th {\n",
       "        vertical-align: top;\n",
       "    }\n",
       "\n",
       "    .dataframe thead th {\n",
       "        text-align: right;\n",
       "    }\n",
       "</style>\n",
       "<table border=\"1\" class=\"dataframe\">\n",
       "  <thead>\n",
       "    <tr style=\"text-align: right;\">\n",
       "      <th></th>\n",
       "      <th>STATION</th>\n",
       "      <th>LATITUDE</th>\n",
       "      <th>LONGITUDE</th>\n",
       "      <th>ELEVATION</th>\n",
       "      <th>TEMP</th>\n",
       "      <th>DEWP</th>\n",
       "      <th>SLP</th>\n",
       "      <th>STP</th>\n",
       "      <th>VISIB</th>\n",
       "      <th>WDSP</th>\n",
       "      <th>MXSPD</th>\n",
       "      <th>GUST</th>\n",
       "      <th>MAX</th>\n",
       "      <th>MIN</th>\n",
       "      <th>PRCP</th>\n",
       "    </tr>\n",
       "    <tr>\n",
       "      <th>Class</th>\n",
       "      <th></th>\n",
       "      <th></th>\n",
       "      <th></th>\n",
       "      <th></th>\n",
       "      <th></th>\n",
       "      <th></th>\n",
       "      <th></th>\n",
       "      <th></th>\n",
       "      <th></th>\n",
       "      <th></th>\n",
       "      <th></th>\n",
       "      <th></th>\n",
       "      <th></th>\n",
       "      <th></th>\n",
       "      <th></th>\n",
       "    </tr>\n",
       "  </thead>\n",
       "  <tbody>\n",
       "    <tr>\n",
       "      <th>0</th>\n",
       "      <td>7.229024e+10</td>\n",
       "      <td>32.707213</td>\n",
       "      <td>-117.10065</td>\n",
       "      <td>96.244984</td>\n",
       "      <td>63.951494</td>\n",
       "      <td>52.134533</td>\n",
       "      <td>1033.659873</td>\n",
       "      <td>461.886484</td>\n",
       "      <td>9.220102</td>\n",
       "      <td>4.437546</td>\n",
       "      <td>11.181767</td>\n",
       "      <td>5.445874</td>\n",
       "      <td>74.653020</td>\n",
       "      <td>58.149561</td>\n",
       "      <td>0.025766</td>\n",
       "    </tr>\n",
       "    <tr>\n",
       "      <th>1</th>\n",
       "      <td>7.229024e+10</td>\n",
       "      <td>32.709769</td>\n",
       "      <td>-117.10330</td>\n",
       "      <td>94.612426</td>\n",
       "      <td>73.264497</td>\n",
       "      <td>55.567456</td>\n",
       "      <td>1066.300000</td>\n",
       "      <td>569.902959</td>\n",
       "      <td>9.293491</td>\n",
       "      <td>4.693491</td>\n",
       "      <td>10.876331</td>\n",
       "      <td>4.881065</td>\n",
       "      <td>85.270414</td>\n",
       "      <td>63.518935</td>\n",
       "      <td>0.000414</td>\n",
       "    </tr>\n",
       "  </tbody>\n",
       "</table>\n",
       "</div>"
      ],
      "text/plain": [
       "            STATION   LATITUDE  LONGITUDE  ELEVATION       TEMP       DEWP  \\\n",
       "Class                                                                        \n",
       "0      7.229024e+10  32.707213 -117.10065  96.244984  63.951494  52.134533   \n",
       "1      7.229024e+10  32.709769 -117.10330  94.612426  73.264497  55.567456   \n",
       "\n",
       "               SLP         STP     VISIB      WDSP      MXSPD      GUST  \\\n",
       "Class                                                                     \n",
       "0      1033.659873  461.886484  9.220102  4.437546  11.181767  5.445874   \n",
       "1      1066.300000  569.902959  9.293491  4.693491  10.876331  4.881065   \n",
       "\n",
       "             MAX        MIN      PRCP  \n",
       "Class                                  \n",
       "0      74.653020  58.149561  0.025766  \n",
       "1      85.270414  63.518935  0.000414  "
      ]
     },
     "execution_count": 7,
     "metadata": {},
     "output_type": "execute_result"
    }
   ],
   "source": [
    "data.groupby('Class').mean()"
   ]
  },
  {
   "cell_type": "code",
   "execution_count": 8,
   "metadata": {},
   "outputs": [
    {
     "data": {
      "image/png": "[encoded data removed]",
      "text/plain": [
       "<Figure size 432x288 with 1 Axes>"
      ]
     },
     "metadata": {
      "needs_background": "light"
     },
     "output_type": "display_data"
    }
   ],
   "source": [
    "%matplotlib inline\n",
    "pd.crosstab(data.TEMP,data.Class).plot(kind='bar')\n",
    "plt.title('Probability of fire wrt to Temperature ')\n",
    "plt.xlabel('MaxTemp')\n",
    "plt.ylabel('Frequency of fire')\n",
    "plt.savefig('Probability of fire')"
   ]
  },
  {
   "cell_type": "code",
   "execution_count": 9,
   "metadata": {},
   "outputs": [
    {
     "data": {
      "image/png": "[encoded data removed]",
      "text/plain": [
       "<Figure size 432x288 with 1 Axes>"
      ]
     },
     "metadata": {
      "needs_background": "light"
     },
     "output_type": "display_data"
    }
   ],
   "source": [
    "%matplotlib inline\n",
    "pd.crosstab(data.DEWP,data.Class).plot(kind='bar')\n",
    "plt.title('Probability of fire wrt to Dew ')\n",
    "plt.xlabel('AvgDew')\n",
    "plt.ylabel('Frequency of fire')\n",
    "plt.savefig('Probability of fire')"
   ]
  },
  {
   "cell_type": "code",
   "execution_count": 10,
   "metadata": {},
   "outputs": [
    {
     "data": {
      "image/png": "[encoded data removed]",
      "text/plain": [
       "<Figure size 432x288 with 1 Axes>"
      ]
     },
     "metadata": {
      "needs_background": "light"
     },
     "output_type": "display_data"
    }
   ],
   "source": [
    "table=pd.crosstab(data.TEMP,data.Class)\n",
    "table.div(table.sum(1).astype(float), axis=0).plot(kind='bar', stacked=True)\n",
    "plt.title('Stacked Bar Chart of Max Temperature vs Class')\n",
    "plt.xlabel('Max Temperature')\n",
    "plt.ylabel('Class')\n",
    "plt.savefig('Max Temperature vs Class')"
   ]
  },
  {
   "cell_type": "code",
   "execution_count": 11,
   "metadata": {},
   "outputs": [
    {
     "data": {
      "image/png": "[encoded data removed]",
      "text/plain": [
       "<Figure size 432x288 with 1 Axes>"
      ]
     },
     "metadata": {
      "needs_background": "light"
     },
     "output_type": "display_data"
    }
   ],
   "source": [
    "pd.crosstab(data.DATE,data.Class).plot(kind='bar')\n",
    "plt.title('Stacked Bar Chart of Months vs Frequency of fire')\n",
    "plt.xlabel('Months')\n",
    "plt.ylabel('Frequency of fire')\n",
    "plt.savefig('Months vs Frequency of fire')"
   ]
  },
  {
   "cell_type": "code",
   "execution_count": 12,
   "metadata": {},
   "outputs": [
    {
     "data": {
      "text/plain": [
       "array([[<matplotlib.axes._subplots.AxesSubplot object at 0x000001C58B0E8710>]],\n",
       "      dtype=object)"
      ]
     },
     "execution_count": 12,
     "metadata": {},
     "output_type": "execute_result"
    },
    {
     "data": {
      "image/png": "[encoded data removed]",
      "text/plain": [
       "<Figure size 720x360 with 1 Axes>"
      ]
     },
     "metadata": {
      "needs_background": "light"
     },
     "output_type": "display_data"
    }
   ],
   "source": [
    "data.hist(column = 'TEMP',bins=20, figsize=(10,5))"
   ]
  },
  {
   "cell_type": "code",
   "execution_count": 13,
   "metadata": {},
   "outputs": [
    {
     "data": {
      "image/png": "[encoded data removed]",
      "text/plain": [
       "<Figure size 1440x1080 with 16 Axes>"
      ]
     },
     "metadata": {
      "needs_background": "light"
     },
     "output_type": "display_data"
    }
   ],
   "source": [
    "data.hist(bins = 50, figsize = (20,15))\n",
    "plt.show()"
   ]
  },
  {
   "cell_type": "code",
   "execution_count": 14,
   "metadata": {},
   "outputs": [],
   "source": [
    "data = data.drop(['NAME'],1)"
   ]
  },
  {
   "cell_type": "code",
   "execution_count": 15,
   "metadata": {},
   "outputs": [],
   "source": [
    "data = data.drop(['DATE'],1)"
   ]
  },
  {
   "cell_type": "code",
   "execution_count": 16,
   "metadata": {},
   "outputs": [
    {
     "name": "stdout",
     "output_type": "stream",
     "text": [
      "<class 'pandas.core.frame.DataFrame'>\n",
      "Int64Index: 8034 entries, 0 to 8033\n",
      "Data columns (total 16 columns):\n",
      "STATION      8034 non-null int64\n",
      "LATITUDE     8034 non-null float64\n",
      "LONGITUDE    8034 non-null float64\n",
      "ELEVATION    8034 non-null float64\n",
      "TEMP         8034 non-null float64\n",
      "DEWP         8034 non-null float64\n",
      "SLP          8034 non-null float64\n",
      "STP          8034 non-null float64\n",
      "VISIB        8034 non-null float64\n",
      "WDSP         8034 non-null float64\n",
      "MXSPD        8034 non-null float64\n",
      "GUST         8034 non-null float64\n",
      "MAX          8034 non-null float64\n",
      "MIN          8034 non-null float64\n",
      "PRCP         8034 non-null float64\n",
      "Class        8034 non-null int64\n",
      "dtypes: float64(14), int64(2)\n",
      "memory usage: 1.4 MB\n"
     ]
    }
   ],
   "source": [
    "data.info()"
   ]
  },
  {
   "cell_type": "code",
   "execution_count": 17,
   "metadata": {
    "scrolled": true
   },
   "outputs": [
    {
     "name": "stdout",
     "output_type": "stream",
     "text": [
      "length of oversampled data is  12586\n",
      "Number of no fire in oversampled data 6293\n",
      "Number of  fire in oversampled data 6293\n",
      "Proportion of no fire data in oversampled data is  0.5\n",
      "Proportion of  fire data in oversampled data is  0.5\n"
     ]
    },
    {
     "name": "stderr",
     "output_type": "stream",
     "text": [
      "C:\\Users\\aksha\\Anaconda3\\envs\\tensorflow1\\lib\\site-packages\\sklearn\\utils\\validation.py:761: DataConversionWarning: A column-vector y was passed when a 1d array was expected. Please change the shape of y to (n_samples, ), for example using ravel().\n",
      "  y = column_or_1d(y, warn=True)\n"
     ]
    }
   ],
   "source": [
    "X = data.loc[:, data.columns != 'Class']\n",
    "y = data.loc[:, data.columns == 'Class']\n",
    "from imblearn.over_sampling import SMOTE\n",
    "os = SMOTE(random_state=0)\n",
    "X_train, X_test, y_train, y_test = train_test_split(X, y, test_size=0.20, random_state=182)\n",
    "columns = X_train.columns\n",
    "os_data_X,os_data_y=os.fit_sample(X_train, y_train)\n",
    "os_data_X = pd.DataFrame(data=os_data_X,columns=columns )\n",
    "os_data_y= pd.DataFrame(data=os_data_y,columns=['Class'])\n",
    "# we can Check the numbers of our data\n",
    "print(\"length of oversampled data is \",len(os_data_X))\n",
    "print(\"Number of no fire in oversampled data\",len(os_data_y[os_data_y['Class']==0]))\n",
    "print(\"Number of  fire in oversampled data\",len(os_data_y[os_data_y['Class']==1]))\n",
    "#rint(\"Number of Fire \",len(os_data_y(os_data_y['Class']==1))\n",
    "print(\"Proportion of no fire data in oversampled data is \",len(os_data_y[os_data_y['Class']==0])/len(os_data_X))\n",
    "print(\"Proportion of  fire data in oversampled data is \",len(os_data_y[os_data_y['Class']==1])/len(os_data_X))\n",
    "#rint(\"Proportion of fire data in oversampled data is \",len(os_data_y[os_data_y['y']==1])/len(os_data_X))\n",
    "\n"
   ]
  },
  {
   "cell_type": "code",
   "execution_count": 18,
   "metadata": {},
   "outputs": [
    {
     "name": "stderr",
     "output_type": "stream",
     "text": [
      "C:\\Users\\aksha\\Anaconda3\\envs\\tensorflow1\\lib\\site-packages\\ipykernel_launcher.py:9: DataConversionWarning: Data with input dtype int64, float64 were all converted to float64 by the scale function.\n",
      "  if __name__ == '__main__':\n",
      "C:\\Users\\aksha\\Anaconda3\\envs\\tensorflow1\\lib\\site-packages\\sklearn\\preprocessing\\data.py:176: UserWarning: Numerical issues were encountered when centering the data and might not be solved. Dataset may contain too large values. You may need to prescale your features.\n",
      "  warnings.warn(\"Numerical issues were encountered \"\n",
      "C:\\Users\\aksha\\Anaconda3\\envs\\tensorflow1\\lib\\site-packages\\sklearn\\preprocessing\\data.py:625: DataConversionWarning: Data with input dtype int64, float64 were all converted to float64 by StandardScaler.\n",
      "  return self.partial_fit(X, y)\n",
      "C:\\Users\\aksha\\Anaconda3\\envs\\tensorflow1\\lib\\site-packages\\ipykernel_launcher.py:15: DataConversionWarning: Data with input dtype int64, float64 were all converted to float64 by StandardScaler.\n",
      "  from ipykernel import kernelapp as app\n",
      "C:\\Users\\aksha\\Anaconda3\\envs\\tensorflow1\\lib\\site-packages\\ipykernel_launcher.py:16: DataConversionWarning: Data with input dtype int64, float64 were all converted to float64 by StandardScaler.\n",
      "  app.launch_new_instance()\n"
     ]
    }
   ],
   "source": [
    "# Imputation of missing values\n",
    "X_train = X_train.fillna(X_train.mean())\n",
    "X_test = X_test.fillna(X_test.mean())\n",
    "\n",
    "# Features for feature importances\n",
    "features = list(X_train.columns)\n",
    "\n",
    "from sklearn import preprocessing\n",
    "X_scaled = preprocessing.scale(X_train)\n",
    "X_scaled.mean(axis=0)\n",
    "X_scaled.std(axis=0)\n",
    "scaler = preprocessing.StandardScaler().fit(X_train)\n",
    "scaler.mean_\n",
    "scaler.scale_ \n",
    "X_train = scaler.transform(X_train)\n",
    "X_test = scaler.transform(X_test)"
   ]
  },
  {
   "cell_type": "code",
   "execution_count": 19,
   "metadata": {},
   "outputs": [],
   "source": [
    "cols=['TEMP','DEWP','SLP','STP','VISIB','WDSP','MXSPD','GUST','MAX','MIN','PRCP']\n",
    "X=os_data_X[cols]\n",
    "y=os_data_y['Class']"
   ]
  },
  {
   "cell_type": "code",
   "execution_count": 20,
   "metadata": {},
   "outputs": [
    {
     "name": "stdout",
     "output_type": "stream",
     "text": [
      "Optimization terminated successfully.\n",
      "         Current function value: 0.530206\n",
      "         Iterations 10\n",
      "                         Results: Logit\n",
      "=================================================================\n",
      "Model:              Logit            Pseudo R-squared: 0.235     \n",
      "Dependent Variable: Class            AIC:              13368.3505\n",
      "Date:               2019-05-06 08:27 BIC:              13450.1942\n",
      "No. Observations:   12586            Log-Likelihood:   -6673.2   \n",
      "Df Model:           10               LL-Null:          -8724.0   \n",
      "Df Residuals:       12575            LLR p-value:      0.0000    \n",
      "Converged:          1.0000           Scale:            1.0000    \n",
      "No. Iterations:     10.0000                                      \n",
      "------------------------------------------------------------------\n",
      "           Coef.    Std.Err.     z      P>|z|    [0.025    0.975] \n",
      "------------------------------------------------------------------\n",
      "TEMP        0.4026    0.0174   23.2001  0.0000    0.3686    0.4366\n",
      "DEWP       -0.0605    0.0038  -15.9768  0.0000   -0.0679   -0.0531\n",
      "SLP        -0.0004    0.0000   -8.3884  0.0000   -0.0005   -0.0003\n",
      "STP         0.0001    0.0001    2.7989  0.0051    0.0000    0.0002\n",
      "VISIB      -0.9071    0.0216  -42.0861  0.0000   -0.9493   -0.8648\n",
      "WDSP        0.1025    0.0218    4.7121  0.0000    0.0599    0.1451\n",
      "MXSPD      -0.0232    0.0100   -2.3104  0.0209   -0.0429   -0.0035\n",
      "GUST        0.0023    0.0033    0.6837  0.4942   -0.0042    0.0087\n",
      "MAX        -0.1676    0.0091  -18.3923  0.0000   -0.1855   -0.1497\n",
      "MIN        -0.0401    0.0099   -4.0540  0.0001   -0.0595   -0.0207\n",
      "PRCP      -26.8958    3.1899   -8.4314  0.0000  -33.1480  -20.6436\n",
      "=================================================================\n",
      "\n"
     ]
    }
   ],
   "source": [
    "import statsmodels.api as sm\n",
    "logit_model=sm.Logit(y,X)\n",
    "result=logit_model.fit()\n",
    "print(result.summary2())"
   ]
  },
  {
   "cell_type": "code",
   "execution_count": 21,
   "metadata": {},
   "outputs": [
    {
     "name": "stderr",
     "output_type": "stream",
     "text": [
      "C:\\Users\\aksha\\Anaconda3\\envs\\tensorflow1\\lib\\site-packages\\sklearn\\linear_model\\logistic.py:433: FutureWarning: Default solver will be changed to 'lbfgs' in 0.22. Specify a solver to silence this warning.\n",
      "  FutureWarning)\n"
     ]
    },
    {
     "data": {
      "text/plain": [
       "LogisticRegression(C=1.0, class_weight=None, dual=False, fit_intercept=True,\n",
       "          intercept_scaling=1, max_iter=100, multi_class='warn',\n",
       "          n_jobs=None, penalty='l2', random_state=None, solver='warn',\n",
       "          tol=0.0001, verbose=0, warm_start=False)"
      ]
     },
     "execution_count": 21,
     "metadata": {},
     "output_type": "execute_result"
    }
   ],
   "source": [
    "from sklearn.linear_model import LogisticRegression\n",
    "from sklearn import metrics\n",
    "X_train, X_test, y_train, y_test = train_test_split(X, y, test_size=0.2, random_state=242)\n",
    "logreg = LogisticRegression()\n",
    "logreg.fit(X_train, y_train)"
   ]
  },
  {
   "cell_type": "code",
   "execution_count": 22,
   "metadata": {},
   "outputs": [
    {
     "name": "stdout",
     "output_type": "stream",
     "text": [
      "Accuracy of logistic regression classifier on test set: 0.81\n"
     ]
    }
   ],
   "source": [
    "y_pred = logreg.predict(X_test)\n",
    "print('Accuracy of logistic regression classifier on test set: {:.2f}'.format(logreg.score(X_test, y_test)))"
   ]
  },
  {
   "cell_type": "code",
   "execution_count": 24,
   "metadata": {},
   "outputs": [
    {
     "name": "stdout",
     "output_type": "stream",
     "text": [
      "[[ 986  266]\n",
      " [ 224 1042]]\n"
     ]
    }
   ],
   "source": [
    "from sklearn.metrics import confusion_matrix\n",
    "confusion_matrix = confusion_matrix(y_test, y_pred)\n",
    "print(confusion_matrix)\n"
   ]
  },
  {
   "cell_type": "code",
   "execution_count": 25,
   "metadata": {},
   "outputs": [
    {
     "name": "stdout",
     "output_type": "stream",
     "text": [
      "              precision    recall  f1-score   support\n",
      "\n",
      "           0       0.81      0.79      0.80      1252\n",
      "           1       0.80      0.82      0.81      1266\n",
      "\n",
      "   micro avg       0.81      0.81      0.81      2518\n",
      "   macro avg       0.81      0.81      0.81      2518\n",
      "weighted avg       0.81      0.81      0.81      2518\n",
      "\n"
     ]
    }
   ],
   "source": [
    "from sklearn.metrics import classification_report\n",
    "print(classification_report(y_test, y_pred))"
   ]
  },
  {
   "cell_type": "code",
   "execution_count": 334,
   "metadata": {},
   "outputs": [
    {
     "data": {
      "image/png": "[encoded data removed]",
      "text/plain": [
       "<Figure size 432x288 with 1 Axes>"
      ]
     },
     "metadata": {
      "needs_background": "light"
     },
     "output_type": "display_data"
    }
   ],
   "source": [
    "from sklearn.metrics import roc_auc_score\n",
    "from sklearn.metrics import roc_curve\n",
    "logit_roc_auc = roc_auc_score(y_test, logreg.predict(X_test))\n",
    "fpr, tpr, thresholds = roc_curve(y_test, logreg.predict_proba(X_test)[:,1])\n",
    "plt.figure()\n",
    "plt.plot(fpr, tpr, label='Logistic Regression (area = %0.2f)' % logit_roc_auc)\n",
    "plt.plot([0, 1], [0, 1],'r--')\n",
    "plt.xlim([0.0, 1.0])\n",
    "plt.ylim([0.0, 1.05])\n",
    "plt.xlabel('False Positive Rate')\n",
    "plt.ylabel('True Positive Rate')\n",
    "plt.title('Receiver operating characteristic')\n",
    "plt.legend(loc=\"lower right\")\n",
    "plt.savefig('Log_ROC')\n",
    "plt.show()"
   ]
  },
  {
   "cell_type": "code",
   "execution_count": 27,
   "metadata": {},
   "outputs": [],
   "source": [
    "#Saving the model\n",
    "\n",
    "import pickle\n",
    "\n",
    "# Save the trained model as a pickle string. \n",
    "saved_model = pickle.dumps(logreg)"
   ]
  },
  {
   "cell_type": "code",
   "execution_count": 29,
   "metadata": {},
   "outputs": [
    {
     "data": {
      "text/plain": [
       "array([1, 0, 0, ..., 0, 0, 1], dtype=int64)"
      ]
     },
     "execution_count": 29,
     "metadata": {},
     "output_type": "execute_result"
    }
   ],
   "source": [
    "# Load the pickled model \n",
    "rf_from_pickle = pickle.loads(saved_model) \n",
    "  \n",
    "# Use the loaded pickled model to make predictions \n",
    "rf_from_pickle.predict(X_test)"
   ]
  },
  {
   "cell_type": "code",
   "execution_count": 30,
   "metadata": {},
   "outputs": [],
   "source": [
    "#Saving model in binary file\n",
    "\n",
    "with open('RF_model_pickle','wb') as file:\n",
    "    pickle.dump(logreg, file)"
   ]
  },
  {
   "cell_type": "code",
   "execution_count": null,
   "metadata": {},
   "outputs": [],
   "source": []
  }
 ],
 "metadata": {
  "kernelspec": {
   "display_name": "Python 3",
   "language": "python",
   "name": "python3"
  },
  "language_info": {
   "codemirror_mode": {
    "name": "ipython",
    "version": 3
   },
   "file_extension": ".py",
   "mimetype": "text/x-python",
   "name": "python",
   "nbconvert_exporter": "python",
   "pygments_lexer": "ipython3",
   "version": "3.6.8"
  }
 },
 "nbformat": 4,
 "nbformat_minor": 2
}
